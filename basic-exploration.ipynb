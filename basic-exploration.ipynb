{
 "cells": [
  {
   "cell_type": "code",
   "execution_count": 1,
   "metadata": {
    "collapsed": true
   },
   "outputs": [],
   "source": [
    "import pandas as pd\n",
    "import numpy as np\n",
    "import matplotlib.pyplot as plt\n",
    "from IPython.display import Audio\n",
    "sound_file = './sound/beep-01a.wav'"
   ]
  },
  {
   "cell_type": "code",
   "execution_count": 2,
   "metadata": {
    "collapsed": false
   },
   "outputs": [
    {
     "name": "stderr",
     "output_type": "stream",
     "text": [
      "D:\\Anaconda2\\lib\\site-packages\\IPython\\core\\interactiveshell.py:2717: DtypeWarning: Columns (3,4,6,11,12) have mixed types. Specify dtype option on import or set low_memory=False.\n",
      "  interactivity=interactivity, compiler=compiler, result=result)\n"
     ]
    }
   ],
   "source": [
    "df = pd.read_csv('FACTDATA_MAR2017.txt')"
   ]
  },
  {
   "cell_type": "code",
   "execution_count": 3,
   "metadata": {
    "collapsed": false
   },
   "outputs": [
    {
     "data": {
      "text/html": [
       "<div>\n",
       "<style>\n",
       "    .dataframe thead tr:only-child th {\n",
       "        text-align: right;\n",
       "    }\n",
       "\n",
       "    .dataframe thead th {\n",
       "        text-align: left;\n",
       "    }\n",
       "\n",
       "    .dataframe tbody tr th {\n",
       "        vertical-align: top;\n",
       "    }\n",
       "</style>\n",
       "<table border=\"1\" class=\"dataframe\">\n",
       "  <thead>\n",
       "    <tr style=\"text-align: right;\">\n",
       "      <th></th>\n",
       "      <th>AGYSUB</th>\n",
       "      <th>LOC</th>\n",
       "      <th>AGELVL</th>\n",
       "      <th>EDLVL</th>\n",
       "      <th>GSEGRD</th>\n",
       "      <th>LOSLVL</th>\n",
       "      <th>OCC</th>\n",
       "      <th>PATCO</th>\n",
       "      <th>PPGRD</th>\n",
       "      <th>SALLVL</th>\n",
       "      <th>STEMOCC</th>\n",
       "      <th>SUPERVIS</th>\n",
       "      <th>TOA</th>\n",
       "      <th>WORKSCH</th>\n",
       "      <th>WORKSTAT</th>\n",
       "      <th>DATECODE</th>\n",
       "      <th>EMPLOYMENT</th>\n",
       "      <th>SALARY</th>\n",
       "      <th>LOS</th>\n",
       "    </tr>\n",
       "  </thead>\n",
       "  <tbody>\n",
       "    <tr>\n",
       "      <th>0</th>\n",
       "      <td>AA00</td>\n",
       "      <td>11</td>\n",
       "      <td>K</td>\n",
       "      <td>21</td>\n",
       "      <td>15</td>\n",
       "      <td>J</td>\n",
       "      <td>0905</td>\n",
       "      <td>1</td>\n",
       "      <td>GS-15</td>\n",
       "      <td>P</td>\n",
       "      <td>XXXX</td>\n",
       "      <td>8</td>\n",
       "      <td>30</td>\n",
       "      <td>F</td>\n",
       "      <td>1</td>\n",
       "      <td>201703</td>\n",
       "      <td>1</td>\n",
       "      <td>161900.0</td>\n",
       "      <td>42.4</td>\n",
       "    </tr>\n",
       "    <tr>\n",
       "      <th>1</th>\n",
       "      <td>AA00</td>\n",
       "      <td>11</td>\n",
       "      <td>G</td>\n",
       "      <td>15</td>\n",
       "      <td>NaN</td>\n",
       "      <td>D</td>\n",
       "      <td>0301</td>\n",
       "      <td>2</td>\n",
       "      <td>ES-**</td>\n",
       "      <td>Q</td>\n",
       "      <td>XXXX</td>\n",
       "      <td>2</td>\n",
       "      <td>50</td>\n",
       "      <td>F</td>\n",
       "      <td>1</td>\n",
       "      <td>201703</td>\n",
       "      <td>1</td>\n",
       "      <td>172100.0</td>\n",
       "      <td>7.4</td>\n",
       "    </tr>\n",
       "    <tr>\n",
       "      <th>2</th>\n",
       "      <td>AA00</td>\n",
       "      <td>11</td>\n",
       "      <td>H</td>\n",
       "      <td>15</td>\n",
       "      <td>NaN</td>\n",
       "      <td>G</td>\n",
       "      <td>0905</td>\n",
       "      <td>1</td>\n",
       "      <td>ES-**</td>\n",
       "      <td>Q</td>\n",
       "      <td>XXXX</td>\n",
       "      <td>2</td>\n",
       "      <td>50</td>\n",
       "      <td>F</td>\n",
       "      <td>1</td>\n",
       "      <td>201703</td>\n",
       "      <td>1</td>\n",
       "      <td>172100.0</td>\n",
       "      <td>24.2</td>\n",
       "    </tr>\n",
       "    <tr>\n",
       "      <th>3</th>\n",
       "      <td>AA00</td>\n",
       "      <td>11</td>\n",
       "      <td>C</td>\n",
       "      <td>15</td>\n",
       "      <td>12</td>\n",
       "      <td>A</td>\n",
       "      <td>0905</td>\n",
       "      <td>1</td>\n",
       "      <td>GS-12</td>\n",
       "      <td>G</td>\n",
       "      <td>XXXX</td>\n",
       "      <td>8</td>\n",
       "      <td>30</td>\n",
       "      <td>F</td>\n",
       "      <td>1</td>\n",
       "      <td>201703</td>\n",
       "      <td>1</td>\n",
       "      <td>79720.0</td>\n",
       "      <td>0.9</td>\n",
       "    </tr>\n",
       "    <tr>\n",
       "      <th>4</th>\n",
       "      <td>AA00</td>\n",
       "      <td>11</td>\n",
       "      <td>C</td>\n",
       "      <td>15</td>\n",
       "      <td>12</td>\n",
       "      <td>A</td>\n",
       "      <td>0905</td>\n",
       "      <td>1</td>\n",
       "      <td>GS-12</td>\n",
       "      <td>G</td>\n",
       "      <td>XXXX</td>\n",
       "      <td>8</td>\n",
       "      <td>30</td>\n",
       "      <td>F</td>\n",
       "      <td>1</td>\n",
       "      <td>201703</td>\n",
       "      <td>1</td>\n",
       "      <td>79720.0</td>\n",
       "      <td>0.8</td>\n",
       "    </tr>\n",
       "  </tbody>\n",
       "</table>\n",
       "</div>"
      ],
      "text/plain": [
       "  AGYSUB LOC AGELVL EDLVL GSEGRD LOSLVL   OCC  PATCO  PPGRD SALLVL STEMOCC  \\\n",
       "0   AA00  11      K    21     15      J  0905      1  GS-15      P    XXXX   \n",
       "1   AA00  11      G    15    NaN      D  0301      2  ES-**      Q    XXXX   \n",
       "2   AA00  11      H    15    NaN      G  0905      1  ES-**      Q    XXXX   \n",
       "3   AA00  11      C    15     12      A  0905      1  GS-12      G    XXXX   \n",
       "4   AA00  11      C    15     12      A  0905      1  GS-12      G    XXXX   \n",
       "\n",
       "  SUPERVIS TOA WORKSCH  WORKSTAT  DATECODE  EMPLOYMENT    SALARY   LOS  \n",
       "0        8  30       F         1    201703           1  161900.0  42.4  \n",
       "1        2  50       F         1    201703           1  172100.0   7.4  \n",
       "2        2  50       F         1    201703           1  172100.0  24.2  \n",
       "3        8  30       F         1    201703           1   79720.0   0.9  \n",
       "4        8  30       F         1    201703           1   79720.0   0.8  "
      ]
     },
     "execution_count": 3,
     "metadata": {},
     "output_type": "execute_result"
    }
   ],
   "source": [
    "df.head()"
   ]
  },
  {
   "cell_type": "code",
   "execution_count": 4,
   "metadata": {
    "collapsed": false
   },
   "outputs": [
    {
     "data": {
      "text/plain": [
       "(2087715, 19)"
      ]
     },
     "execution_count": 4,
     "metadata": {},
     "output_type": "execute_result"
    }
   ],
   "source": [
    "df.shape"
   ]
  },
  {
   "cell_type": "code",
   "execution_count": 5,
   "metadata": {
    "collapsed": false
   },
   "outputs": [
    {
     "data": {
      "text/plain": [
       "AGYSUB         object\n",
       "LOC            object\n",
       "AGELVL         object\n",
       "EDLVL          object\n",
       "GSEGRD         object\n",
       "LOSLVL         object\n",
       "OCC            object\n",
       "PATCO           int64\n",
       "PPGRD          object\n",
       "SALLVL         object\n",
       "STEMOCC        object\n",
       "SUPERVIS       object\n",
       "TOA            object\n",
       "WORKSCH        object\n",
       "WORKSTAT        int64\n",
       "DATECODE        int64\n",
       "EMPLOYMENT      int64\n",
       "SALARY        float64\n",
       "LOS           float64\n",
       "dtype: object"
      ]
     },
     "execution_count": 5,
     "metadata": {},
     "output_type": "execute_result"
    }
   ],
   "source": [
    "df.dtypes"
   ]
  },
  {
   "cell_type": "code",
   "execution_count": 6,
   "metadata": {
    "collapsed": false,
    "scrolled": true
   },
   "outputs": [
    {
     "name": "stdout",
     "output_type": "stream",
     "text": [
      "19\n"
     ]
    }
   ],
   "source": [
    "# fix datatypes\n",
    "column_names = df.columns.values\n",
    "column_datatypes = {}\n",
    "for i in range(16):\n",
    "    column_datatypes[column_names[i]] = str\n",
    "column_datatypes[column_names[16]] = np.int64\n",
    "for i in range(17, 19):\n",
    "    column_datatypes[column_names[i]] = np.float64\n",
    "print len(column_datatypes)"
   ]
  },
  {
   "cell_type": "markdown",
   "metadata": {},
   "source": [
    "** The dataframe is explored and its columns are converted to be of proper datatypes **"
   ]
  },
  {
   "cell_type": "code",
   "execution_count": 7,
   "metadata": {
    "collapsed": true
   },
   "outputs": [],
   "source": [
    "#df = df.astype(column_datatypes)\n",
    "df = pd.read_csv('FACTDATA_MAR2017.txt', dtype=column_datatypes)"
   ]
  },
  {
   "cell_type": "code",
   "execution_count": 8,
   "metadata": {
    "collapsed": false
   },
   "outputs": [
    {
     "data": {
      "text/plain": [
       "(2087715, 19)"
      ]
     },
     "execution_count": 8,
     "metadata": {},
     "output_type": "execute_result"
    }
   ],
   "source": [
    "df.shape"
   ]
  },
  {
   "cell_type": "code",
   "execution_count": 9,
   "metadata": {
    "collapsed": false,
    "scrolled": true
   },
   "outputs": [
    {
     "data": {
      "text/plain": [
       "AGYSUB         object\n",
       "LOC            object\n",
       "AGELVL         object\n",
       "EDLVL          object\n",
       "GSEGRD         object\n",
       "LOSLVL         object\n",
       "OCC            object\n",
       "PATCO          object\n",
       "PPGRD          object\n",
       "SALLVL         object\n",
       "STEMOCC        object\n",
       "SUPERVIS       object\n",
       "TOA            object\n",
       "WORKSCH        object\n",
       "WORKSTAT       object\n",
       "DATECODE       object\n",
       "EMPLOYMENT      int64\n",
       "SALARY        float64\n",
       "LOS           float64\n",
       "dtype: object"
      ]
     },
     "execution_count": 9,
     "metadata": {},
     "output_type": "execute_result"
    }
   ],
   "source": [
    "df.dtypes"
   ]
  },
  {
   "cell_type": "markdown",
   "metadata": {},
   "source": [
    "** Above are the datatypes of all columns of the dataset **"
   ]
  },
  {
   "cell_type": "code",
   "execution_count": 10,
   "metadata": {
    "collapsed": false
   },
   "outputs": [
    {
     "data": {
      "text/plain": [
       "AGYSUB           531\n",
       "LOC              221\n",
       "AGELVL            12\n",
       "EDLVL             23\n",
       "GSEGRD            16\n",
       "LOSLVL            11\n",
       "OCC              683\n",
       "PATCO              7\n",
       "PPGRD           1008\n",
       "SALLVL            19\n",
       "STEMOCC          101\n",
       "SUPERVIS           7\n",
       "TOA               20\n",
       "WORKSCH           11\n",
       "WORKSTAT           2\n",
       "DATECODE           1\n",
       "EMPLOYMENT         1\n",
       "SALARY        119456\n",
       "LOS              636\n",
       "dtype: int64"
      ]
     },
     "execution_count": 10,
     "metadata": {},
     "output_type": "execute_result"
    }
   ],
   "source": [
    "df.nunique()"
   ]
  },
  {
   "cell_type": "code",
   "execution_count": 11,
   "metadata": {
    "collapsed": false,
    "scrolled": true
   },
   "outputs": [
    {
     "data": {
      "text/plain": [
       "array(['1', '2'], dtype=object)"
      ]
     },
     "execution_count": 11,
     "metadata": {},
     "output_type": "execute_result"
    }
   ],
   "source": [
    "np.unique(df.WORKSTAT)"
   ]
  },
  {
   "cell_type": "code",
   "execution_count": 12,
   "metadata": {
    "collapsed": false,
    "scrolled": true
   },
   "outputs": [
    {
     "data": {
      "text/plain": [
       "array(['*', 'B', 'F', 'G', 'I', 'J', 'P', 'Q', 'R', 'S', 'T'], dtype=object)"
      ]
     },
     "execution_count": 12,
     "metadata": {},
     "output_type": "execute_result"
    }
   ],
   "source": [
    "np.unique(df.WORKSCH)"
   ]
  },
  {
   "cell_type": "code",
   "execution_count": 13,
   "metadata": {
    "collapsed": false
   },
   "outputs": [
    {
     "data": {
      "image/png": "[encoded data removed]",
      "text/plain": [
       "<matplotlib.figure.Figure at 0x29a691d0>"
      ]
     },
     "metadata": {},
     "output_type": "display_data"
    },
    {
     "name": "stdout",
     "output_type": "stream",
     "text": [
      "   WORKSTAT                         WORKSTATT\n",
      "0         1  Non-Seasonal Full Time Permanent\n",
      "1         2                   Other Employees\n"
     ]
    }
   ],
   "source": [
    "# Distribution of working status\n",
    "translation_filename = 'DTwkstat.txt'\n",
    "plt.figure()\n",
    "df.groupby('WORKSTAT').size().plot.bar()\n",
    "plt.yscale(\"log\")\n",
    "\n",
    "plt.show()\n",
    "print pd.read_csv(translation_filename)"
   ]
  },
  {
   "cell_type": "code",
   "execution_count": 14,
   "metadata": {
    "collapsed": false
   },
   "outputs": [
    {
     "data": {
      "image/png": "[encoded data removed]",
      "text/plain": [
       "<matplotlib.figure.Figure at 0x2d276e80>"
      ]
     },
     "metadata": {},
     "output_type": "display_data"
    },
    {
     "name": "stdout",
     "output_type": "stream",
     "text": [
      "    WSTYP         WSTYPT WORKSCH                              WORKSCHT\n",
      "0       1      Full-time       B  B - Full-time Nonseasonal Baylor Pln\n",
      "1       1      Full-time       F             F - Full-time Nonseasonal\n",
      "2       1      Full-time       G                G - Full-time Seasonal\n",
      "3       1      Full-time       H                 H - Full-time On-call\n",
      "4       2  Not Full-time       I          I - Intermittent Nonseasonal\n",
      "5       2  Not Full-time       J             J - Intermittent Seasonal\n",
      "6       2  Not Full-time       P             P - Part-time Nonseasonal\n",
      "7       2  Not Full-time       Q                Q - Part-time Seasonal\n",
      "8       2  Not Full-time       R                 R - Part-time On-call\n",
      "9       2  Not Full-time       S  S - Part-time Job Sharer Nonseasonal\n",
      "10      2  Not Full-time       T     T - Part-time Job Sharer Seasonal\n",
      "11      3    Unspecified       *                       * - Unspecified\n"
     ]
    }
   ],
   "source": [
    "translation_filename = 'DTwrksch.txt'\n",
    "#translation = pd.read_csv(translation_filename)\n",
    "plt.figure()\n",
    "df.groupby('WORKSCH').size().plot.bar()\n",
    "plt.yscale(\"log\")\n",
    "plt.show()\n",
    "print pd.read_csv(translation_filename)"
   ]
  },
  {
   "cell_type": "markdown",
   "metadata": {},
   "source": [
    "** An overwhelming proportion of employees are \"F\", or full-time nonseasonal employees, followed by \"P (part-time nonseasonal)\", \"I (intermittent nonseasonal)\" and \"G (full-time seasonal)\", and further followed by \"J (intermittent nonseasonal)\" and \"Q (part-time seasonal)\" **"
   ]
  },
  {
   "cell_type": "code",
   "execution_count": 15,
   "metadata": {
    "collapsed": false
   },
   "outputs": [
    {
     "data": {
      "image/png": "[encoded data removed]",
      "text/plain": [
       "<matplotlib.figure.Figure at 0x2c9d0fd0>"
      ]
     },
     "metadata": {},
     "output_type": "display_data"
    },
    {
     "name": "stdout",
     "output_type": "stream",
     "text": [
      "   SALLVL              SALLVLT\n",
      "0       A    Less than $20,000\n",
      "1       B    $20,000 - $29,999\n",
      "2       C    $30,000 - $39,999\n",
      "3       D    $40,000 - $49,999\n",
      "4       E    $50,000 - $59,999\n",
      "5       F    $60,000 - $69,999\n",
      "6       G    $70,000 - $79,999\n",
      "7       H    $80,000 - $89,999\n",
      "8       I    $90,000 - $99,999\n",
      "9       J  $100,000 - $109,999\n",
      "10      K  $110,000 - $119,999\n",
      "11      L  $120,000 - $129,999\n",
      "12      M  $130,000 - $139,999\n",
      "13      N  $140,000 - $149,999\n",
      "14      O  $150,000 - $159,999\n",
      "15      P  $160,000 - $169,999\n",
      "16      Q  $170,000 - $179,999\n",
      "17      R     $180,000 or more\n",
      "18      Z  Unspecified or Zero\n"
     ]
    }
   ],
   "source": [
    "translation_filename = 'DTsallvl.txt'\n",
    "#translation = pd.read_csv(translation_filename)\n",
    "plt.figure()\n",
    "df.groupby('SALLVL').size().plot.bar()\n",
    "#plt.yscale(\"log\")\n",
    "plt.show()\n",
    "print pd.read_csv(translation_filename)"
   ]
  },
  {
   "cell_type": "markdown",
   "metadata": {},
   "source": [
    "** Salary levels follow a distribution that is skewed to the right. The mode lies at \\$40,000 - $49,000 and the number of employees at each salary level drops uniformly ** "
   ]
  },
  {
   "cell_type": "code",
   "execution_count": 16,
   "metadata": {
    "collapsed": false
   },
   "outputs": [
    {
     "data": {
      "image/png": "[encoded data removed]",
      "text/plain": [
       "<matplotlib.figure.Figure at 0x27a6c898>"
      ]
     },
     "metadata": {},
     "output_type": "display_data"
    },
    {
     "name": "stdout",
     "output_type": "stream",
     "text": [
      "   PATCO              PATCOT\n",
      "0      1        Professional\n",
      "1      2      Administrative\n",
      "2      3           Technical\n",
      "3      4            Clerical\n",
      "4      5  Other White Collar\n",
      "5      6         Blue Collar\n",
      "6      9         Unspecified\n"
     ]
    }
   ],
   "source": [
    "# Next, occupation category\n",
    "translation_filename = 'DTpatco.txt'\n",
    "#translation = pd.read_csv(translation_filename)\n",
    "plt.figure()\n",
    "df.groupby('PATCO').size().plot.bar()\n",
    "#plt.yscale(\"log\")\n",
    "plt.show()\n",
    "print pd.read_csv(translation_filename)"
   ]
  },
  {
   "cell_type": "markdown",
   "metadata": {},
   "source": [
    "** Most employees are administrators, followed by profesisonals and technicians. **"
   ]
  },
  {
   "cell_type": "code",
   "execution_count": 17,
   "metadata": {
    "collapsed": false
   },
   "outputs": [
    {
     "data": {
      "image/png": "[encoded data removed]",
      "text/plain": [
       "<matplotlib.figure.Figure at 0x22a11f28>"
      ]
     },
     "metadata": {},
     "output_type": "display_data"
    },
    {
     "name": "stdout",
     "output_type": "stream",
     "text": [
      "   AGELVL       AGELVLT\n",
      "0       A  Less than 20\n",
      "1       B         20-24\n",
      "2       C         25-29\n",
      "3       D         30-34\n",
      "4       E         35-39\n",
      "5       F         40-44\n",
      "6       G         45-49\n",
      "7       H         50-54\n",
      "8       I         55-59\n",
      "9       J         60-64\n",
      "10      K    65 or more\n",
      "11      Z   Unspecified\n"
     ]
    }
   ],
   "source": [
    "# After that, age level\n",
    "translation_filename = 'DTagelvl.txt'\n",
    "#translation = pd.read_csv(translation_filename)\n",
    "plt.figure()\n",
    "df.groupby('AGELVL').size().plot.bar()\n",
    "#plt.yscale(\"log\")\n",
    "plt.show()\n",
    "print pd.read_csv(translation_filename)"
   ]
  },
  {
   "cell_type": "markdown",
   "metadata": {},
   "source": [
    "** The age levels shows a bimodal distribution, with local maxima at 35-39 and 50-54 **"
   ]
  },
  {
   "cell_type": "code",
   "execution_count": 18,
   "metadata": {
    "collapsed": false
   },
   "outputs": [
    {
     "data": {
      "image/png": "[encoded data removed]",
      "text/plain": [
       "<matplotlib.figure.Figure at 0x22a060b8>"
      ]
     },
     "metadata": {},
     "output_type": "display_data"
    },
    {
     "name": "stdout",
     "output_type": "stream",
     "text": [
      "   LOSLVL           LOSLVLT\n",
      "0       A  Less than 1 year\n",
      "1       B       1 - 2 years\n",
      "2       C       3 - 4 years\n",
      "3       D       5 - 9 years\n",
      "4       E     10 - 14 years\n",
      "5       F     15 - 19 years\n",
      "6       G     20 - 24 years\n",
      "7       H     25 - 29 years\n",
      "8       I     30 - 34 years\n",
      "9       J  35 years or more\n",
      "10      Z       Unspecified\n"
     ]
    }
   ],
   "source": [
    "# Next, length of service\n",
    "translation_filename = 'DTloslvl.txt'\n",
    "#translation = pd.read_csv(translation_filename)\n",
    "plt.figure()\n",
    "df.groupby('LOSLVL').size().plot.bar()\n",
    "#plt.yscale(\"log\")\n",
    "plt.show()\n",
    "print pd.read_csv(translation_filename)"
   ]
  },
  {
   "cell_type": "markdown",
   "metadata": {},
   "source": [
    "** The distribution for length-of-service levels is actually trimodal, with peaks at 1-2 years, 5-9 years and 25-29 years **"
   ]
  },
  {
   "cell_type": "code",
   "execution_count": 19,
   "metadata": {
    "collapsed": false,
    "scrolled": true
   },
   "outputs": [
    {
     "data": {
      "text/plain": [
       "array(['*', '2', '4', '5', '6', '7', '8'], dtype=object)"
      ]
     },
     "execution_count": 19,
     "metadata": {},
     "output_type": "execute_result"
    }
   ],
   "source": [
    "np.unique(df.SUPERVIS.apply(str))"
   ]
  },
  {
   "cell_type": "code",
   "execution_count": 20,
   "metadata": {
    "collapsed": false
   },
   "outputs": [
    {
     "data": {
      "image/png": "[encoded data removed]",
      "text/plain": [
       "<matplotlib.figure.Figure at 0x2c8d42b0>"
      ]
     },
     "metadata": {},
     "output_type": "display_data"
    },
    {
     "name": "stdout",
     "output_type": "stream",
     "text": [
      "   SUPERTYP       SUPERTYPT SUPERVIS                     SUPERVIST\n",
      "0         1      Supervisor        2       2-SUPERVISOR OR MANAGER\n",
      "1         2          Leader        6                      6-LEADER\n",
      "2         2          Leader        7                 7-TEAM LEADER\n",
      "3         3  Non-Supervisor        4           4-SUPERVISOR (CSRA)\n",
      "4         3  Non-Supervisor        5  5-MANAGEMENT OFFICIAL (CSRA)\n",
      "5         3  Non-Supervisor        8         8-ALL OTHER POSITIONS\n",
      "6         4     Unspecified        *                 *-UNSPECIFIED\n"
     ]
    }
   ],
   "source": [
    "# Next, supervisory status\n",
    "translation_filename = 'DTsuper.txt'\n",
    "#translation = pd.read_csv(translation_filename)\n",
    "plt.figure()\n",
    "# Standardize entry type\n",
    "# df.SUPERVIS = df.SUPERVIS.apply(str)\n",
    "df.groupby('SUPERVIS').size().plot.bar()\n",
    "plt.yscale(\"log\")\n",
    "plt.show()\n",
    "print pd.read_csv(translation_filename)"
   ]
  },
  {
   "cell_type": "markdown",
   "metadata": {},
   "source": [
    "** There are apparently many supervisors compared to leaders. But not enough is known about their organizational structure to draw any significant conclusions **"
   ]
  },
  {
   "cell_type": "code",
   "execution_count": 21,
   "metadata": {
    "collapsed": false
   },
   "outputs": [
    {
     "data": {
      "image/png": "[encoded data removed]",
      "text/plain": [
       "<matplotlib.figure.Figure at 0x22a116a0>"
      ]
     },
     "metadata": {},
     "output_type": "display_data"
    },
    {
     "name": "stdout",
     "output_type": "stream",
     "text": [
      "   GSEGRD\n",
      "0      **\n",
      "1      01\n",
      "2      02\n",
      "3      03\n",
      "4      04\n",
      "5      05\n",
      "6      06\n",
      "7      07\n",
      "8      08\n",
      "9      09\n",
      "10     10\n",
      "11     11\n",
      "12     12\n",
      "13     13\n",
      "14     14\n",
      "15     15\n"
     ]
    }
   ],
   "source": [
    "# Next, general schedule and equivalent grade\n",
    "translation_filename = 'DTgsegrd.txt'\n",
    "#translation = pd.read_csv(translation_filename)\n",
    "plt.figure()\n",
    "# Standardize entry type\n",
    "# df.SUPERVIS = df.SUPERVIS.apply(str)\n",
    "df.groupby('GSEGRD').size().plot.bar()\n",
    "#plt.yscale(\"log\")\n",
    "plt.show()\n",
    "print pd.read_csv(translation_filename)"
   ]
  },
  {
   "cell_type": "markdown",
   "metadata": {},
   "source": [
    "** Not familiar enough with the US general schedule system to draw conclusion about the distribution **"
   ]
  },
  {
   "cell_type": "code",
   "execution_count": 22,
   "metadata": {
    "collapsed": false
   },
   "outputs": [
    {
     "data": {
      "image/png": "[encoded data removed]",
      "text/plain": [
       "<matplotlib.figure.Figure at 0x2e56e748>"
      ]
     },
     "metadata": {},
     "output_type": "display_data"
    },
    {
     "name": "stdout",
     "output_type": "stream",
     "text": [
      "    TOATYP        TOATYPT TOA                                             TOAT\n",
      "0        1      Permanent  10                  10-Competitive Service - Career\n",
      "1        1      Permanent  15      15-Competitive Service - Career-Conditional\n",
      "2        1      Permanent  30                 30-Excepted Service - Schedule A\n",
      "3        1      Permanent  32                 32-Excepted Service - Schedule B\n",
      "4        1      Permanent  34                 34-Excepted Service - Schedule C\n",
      "5        1      Permanent  35                 35-Excepted Service - Schedule D\n",
      "6        1      Permanent  36                  36-Excepted Service - Executive\n",
      "7        1      Permanent  38                      38-Excepted Service - Other\n",
      "8        1      Permanent  50             50-Senior Executive Service - Career\n",
      "9        1      Permanent  55         55-Senior Executive Service - Non-Career\n",
      "10       1      Permanent  99                                   **-Unspecified\n",
      "11       2  Non-permanent  20                           20-Competitive Service\n",
      "12       2  Non-permanent  40                 40-Excepted Service - Schedule A\n",
      "13       2  Non-permanent  42                 42-Excepted Service - Schedule B\n",
      "14       2  Non-permanent  44                 44-Excepted Service - Schedule C\n",
      "15       2  Non-permanent  45                 45-Excepted Service - Schedule D\n",
      "16       2  Non-permanent  46                  46-Excepted Service - Executive\n",
      "17       2  Non-permanent  48                      48-Excepted Service - Other\n",
      "18       2  Non-permanent  60       60-Senior Executive Service - Limited Term\n",
      "19       2  Non-permanent  65  65-Senior Executive Service - Limited Emergency\n",
      "20       3    Unspecified  **                                   **-Unspecified\n"
     ]
    }
   ],
   "source": [
    "# Next, type of appointment\n",
    "translation_filename = 'DTtoa.txt'\n",
    "#translation = pd.read_csv(translation_filename)\n",
    "plt.figure()\n",
    "# Standardize entry type\n",
    "# df.SUPERVIS = df.SUPERVIS.apply(str)\n",
    "df.groupby('TOA').size().plot.bar()\n",
    "plt.yscale(\"log\")\n",
    "plt.show()\n",
    "print pd.read_csv(translation_filename)"
   ]
  },
  {
   "cell_type": "markdown",
   "metadata": {},
   "source": [
    "** While this column may contain interesting information about the civil service system, it may be less relevant to our study because first, the system is a specialty of the US civil service system, but we work with private companies, and second, I don't expect there to be substantial difference in opportunity for the employees to get insurance benefits **"
   ]
  },
  {
   "cell_type": "code",
   "execution_count": 23,
   "metadata": {
    "collapsed": false
   },
   "outputs": [
    {
     "data": {
      "image/png": "[encoded data removed]",
      "text/plain": [
       "<matplotlib.figure.Figure at 0xde8a6d8>"
      ]
     },
     "metadata": {},
     "output_type": "display_data"
    },
    {
     "name": "stdout",
     "output_type": "stream",
     "text": [
      "     STEMAGG               STEMAGGT  STEMTYP                 STEMTYPT STEMOCC  \\\n",
      "0          1       STEM OCCUPATIONS        1      SCIENCE OCCUPATIONS    0101   \n",
      "1          1       STEM OCCUPATIONS        1      SCIENCE OCCUPATIONS    0150   \n",
      "2          1       STEM OCCUPATIONS        1      SCIENCE OCCUPATIONS    0180   \n",
      "3          1       STEM OCCUPATIONS        1      SCIENCE OCCUPATIONS    0184   \n",
      "4          1       STEM OCCUPATIONS        1      SCIENCE OCCUPATIONS    0190   \n",
      "5          1       STEM OCCUPATIONS        1      SCIENCE OCCUPATIONS    0193   \n",
      "6          1       STEM OCCUPATIONS        1      SCIENCE OCCUPATIONS    0401   \n",
      "7          1       STEM OCCUPATIONS        1      SCIENCE OCCUPATIONS    0403   \n",
      "8          1       STEM OCCUPATIONS        1      SCIENCE OCCUPATIONS    0405   \n",
      "9          1       STEM OCCUPATIONS        1      SCIENCE OCCUPATIONS    0408   \n",
      "10         1       STEM OCCUPATIONS        1      SCIENCE OCCUPATIONS    0410   \n",
      "11         1       STEM OCCUPATIONS        1      SCIENCE OCCUPATIONS    0413   \n",
      "12         1       STEM OCCUPATIONS        1      SCIENCE OCCUPATIONS    0414   \n",
      "13         1       STEM OCCUPATIONS        1      SCIENCE OCCUPATIONS    0415   \n",
      "14         1       STEM OCCUPATIONS        1      SCIENCE OCCUPATIONS    0430   \n",
      "15         1       STEM OCCUPATIONS        1      SCIENCE OCCUPATIONS    0434   \n",
      "16         1       STEM OCCUPATIONS        1      SCIENCE OCCUPATIONS    0435   \n",
      "17         1       STEM OCCUPATIONS        1      SCIENCE OCCUPATIONS    0437   \n",
      "18         1       STEM OCCUPATIONS        1      SCIENCE OCCUPATIONS    0440   \n",
      "19         1       STEM OCCUPATIONS        1      SCIENCE OCCUPATIONS    0454   \n",
      "20         1       STEM OCCUPATIONS        1      SCIENCE OCCUPATIONS    0457   \n",
      "21         1       STEM OCCUPATIONS        1      SCIENCE OCCUPATIONS    0460   \n",
      "22         1       STEM OCCUPATIONS        1      SCIENCE OCCUPATIONS    0470   \n",
      "23         1       STEM OCCUPATIONS        1      SCIENCE OCCUPATIONS    0471   \n",
      "24         1       STEM OCCUPATIONS        1      SCIENCE OCCUPATIONS    0480   \n",
      "25         1       STEM OCCUPATIONS        1      SCIENCE OCCUPATIONS    0482   \n",
      "26         1       STEM OCCUPATIONS        1      SCIENCE OCCUPATIONS    0485   \n",
      "27         1       STEM OCCUPATIONS        1      SCIENCE OCCUPATIONS    0486   \n",
      "28         1       STEM OCCUPATIONS        1      SCIENCE OCCUPATIONS    0487   \n",
      "29         1       STEM OCCUPATIONS        1      SCIENCE OCCUPATIONS    1301   \n",
      "..       ...                    ...      ...                      ...     ...   \n",
      "71         1       STEM OCCUPATIONS        4  MATHEMATICS OCCUPATIONS    1515   \n",
      "72         1       STEM OCCUPATIONS        4  MATHEMATICS OCCUPATIONS    1520   \n",
      "73         1       STEM OCCUPATIONS        4  MATHEMATICS OCCUPATIONS    1529   \n",
      "74         1       STEM OCCUPATIONS        4  MATHEMATICS OCCUPATIONS    1530   \n",
      "75         1       STEM OCCUPATIONS        4  MATHEMATICS OCCUPATIONS    1541   \n",
      "76         1       STEM OCCUPATIONS        4  MATHEMATICS OCCUPATIONS    1550   \n",
      "77         2     HEALTH OCCUPATIONS        5       HEALTH OCCUPATIONS    0601   \n",
      "78         2     HEALTH OCCUPATIONS        5       HEALTH OCCUPATIONS    0602   \n",
      "79         2     HEALTH OCCUPATIONS        5       HEALTH OCCUPATIONS    0610   \n",
      "80         2     HEALTH OCCUPATIONS        5       HEALTH OCCUPATIONS    0620   \n",
      "81         2     HEALTH OCCUPATIONS        5       HEALTH OCCUPATIONS    0630   \n",
      "82         2     HEALTH OCCUPATIONS        5       HEALTH OCCUPATIONS    0631   \n",
      "83         2     HEALTH OCCUPATIONS        5       HEALTH OCCUPATIONS    0633   \n",
      "84         2     HEALTH OCCUPATIONS        5       HEALTH OCCUPATIONS    0635   \n",
      "85         2     HEALTH OCCUPATIONS        5       HEALTH OCCUPATIONS    0637   \n",
      "86         2     HEALTH OCCUPATIONS        5       HEALTH OCCUPATIONS    0638   \n",
      "87         2     HEALTH OCCUPATIONS        5       HEALTH OCCUPATIONS    0639   \n",
      "88         2     HEALTH OCCUPATIONS        5       HEALTH OCCUPATIONS    0651   \n",
      "89         2     HEALTH OCCUPATIONS        5       HEALTH OCCUPATIONS    0660   \n",
      "90         2     HEALTH OCCUPATIONS        5       HEALTH OCCUPATIONS    0662   \n",
      "91         2     HEALTH OCCUPATIONS        5       HEALTH OCCUPATIONS    0665   \n",
      "92         2     HEALTH OCCUPATIONS        5       HEALTH OCCUPATIONS    0667   \n",
      "93         2     HEALTH OCCUPATIONS        5       HEALTH OCCUPATIONS    0668   \n",
      "94         2     HEALTH OCCUPATIONS        5       HEALTH OCCUPATIONS    0670   \n",
      "95         2     HEALTH OCCUPATIONS        5       HEALTH OCCUPATIONS    0682   \n",
      "96         2     HEALTH OCCUPATIONS        5       HEALTH OCCUPATIONS    0685   \n",
      "97         2     HEALTH OCCUPATIONS        5       HEALTH OCCUPATIONS    0690   \n",
      "98         2     HEALTH OCCUPATIONS        5       HEALTH OCCUPATIONS    0696   \n",
      "99         3  ALL OTHER OCCUPATIONS        6    ALL OTHER OCCUPATIONS    XXXX   \n",
      "100        4            UNSPECIFIED        7              UNSPECIFIED    ****   \n",
      "\n",
      "                                              STEMOCCT  \n",
      "0                                  0101-SOCIAL SCIENCE  \n",
      "1                                       0150-GEOGRAPHY  \n",
      "2                                      0180-PSYCHOLOGY  \n",
      "3                                       0184-SOCIOLOGY  \n",
      "4                            0190-GENERAL ANTHROPOLOGY  \n",
      "5                                      0193-ARCHEOLOGY  \n",
      "6    0401-GENERAL NATURAL RESOURCES MANAGEMENT AND ...  \n",
      "7                                    0403-MICROBIOLOGY  \n",
      "8                                    0405-PHARMACOLOGY  \n",
      "9                                         0408-ECOLOGY  \n",
      "10                                        0410-ZOOLOGY  \n",
      "11                                     0413-PHYSIOLOGY  \n",
      "12                                     0414-ENTOMOLOGY  \n",
      "13                                     0415-TOXICOLOGY  \n",
      "14                                         0430-BOTANY  \n",
      "15                                0434-PLANT PATHOLOGY  \n",
      "16                               0435-PLANT PHYSIOLOGY  \n",
      "17                                   0437-HORTICULTURE  \n",
      "18                                       0440-GENETICS  \n",
      "19                           0454-RANGELAND MANAGEMENT  \n",
      "20                              0457-SOIL CONSERVATION  \n",
      "21                                       0460-FORESTRY  \n",
      "22                                   0470-SOIL SCIENCE  \n",
      "23                                       0471-AGRONOMY  \n",
      "24               0480-FISH AND WILDLIFE ADMINISTRATION  \n",
      "25                                   0482-FISH BIOLOGY  \n",
      "26                     0485-WILDLIFE REFUGE MANAGEMENT  \n",
      "27                               0486-WILDLIFE BIOLOGY  \n",
      "28                                 0487-ANIMAL SCIENCE  \n",
      "29                       1301-GENERAL PHYSICAL SCIENCE  \n",
      "..                                                 ...  \n",
      "71                            1515-OPERATIONS RESEARCH  \n",
      "72                                    1520-MATHEMATICS  \n",
      "73                        1529-MATHEMATICAL STATISTICS  \n",
      "74                                     1530-STATISTICS  \n",
      "75                                  1541-CRYPTANALYSIS  \n",
      "76                               1550-COMPUTER SCIENCE  \n",
      "77                         0601-GENERAL HEALTH SCIENCE  \n",
      "78                                0602-MEDICAL OFFICER  \n",
      "79                                          0610-NURSE  \n",
      "80                                0620-PRACTICAL NURSE  \n",
      "81                     0630-DIETITIAN AND NUTRITIONIST  \n",
      "82                         0631-OCCUPATIONAL THERAPIST  \n",
      "83                             0633-PHYSICAL THERAPIST  \n",
      "84                                 0635-KINESIOTHERAPY  \n",
      "85                          0637-MANUAL ARTS THERAPIST  \n",
      "86             0638-RECREATION/CREATIVE ARTS THERAPIST  \n",
      "87                          0639-EDUCATIONAL THERAPIST  \n",
      "88                          0651-RESPIRATORY THERAPIST  \n",
      "89                                     0660-PHARMACIST  \n",
      "90                                    0662-OPTOMETRIST  \n",
      "91                 0665-SPEECH PATHOLOGY AND AUDIOLOGY  \n",
      "92                      0667-ORTHOTIST AND PROSTHETIST  \n",
      "93                                     0668-PODIATRIST  \n",
      "94                   0670-HEALTH SYSTEM ADMINISTRATION  \n",
      "95                                 0682-DENTAL HYGIENE  \n",
      "96               0685-PUBLIC HEALTH PROGRAM SPECIALIST  \n",
      "97                             0690-INDUSTRIAL HYGIENE  \n",
      "98                                0696-CONSUMER SAFETY  \n",
      "99                          XXXX-ALL OTHER OCCUPATIONS  \n",
      "100                                   ****-UNSPECIFIED  \n",
      "\n",
      "[101 rows x 6 columns]\n"
     ]
    }
   ],
   "source": [
    "# Next, stem occupations\n",
    "translation_filename = 'DTstemocc.txt'\n",
    "#translation = pd.read_csv(translation_filename)\n",
    "plt.figure()\n",
    "# Standardize entry type\n",
    "# df.SUPERVIS = df.SUPERVIS.apply(str)\n",
    "df.groupby('STEMOCC').size().plot.bar()\n",
    "plt.yscale(\"log\")\n",
    "plt.show()\n",
    "print pd.read_csv(translation_filename)"
   ]
  },
  {
   "cell_type": "markdown",
   "metadata": {},
   "source": [
    "** Very complicated, very specific. Probably will not yield interesting insights **"
   ]
  },
  {
   "cell_type": "code",
   "execution_count": 24,
   "metadata": {
    "collapsed": true
   },
   "outputs": [],
   "source": [
    "# It might be a good idea to start with an analysis of the vast list of agencies\n",
    "agencies = pd.read_csv('DTagy.txt')"
   ]
  },
  {
   "cell_type": "code",
   "execution_count": 25,
   "metadata": {
    "collapsed": false
   },
   "outputs": [
    {
     "data": {
      "text/html": [
       "<div>\n",
       "<style>\n",
       "    .dataframe thead tr:only-child th {\n",
       "        text-align: right;\n",
       "    }\n",
       "\n",
       "    .dataframe thead th {\n",
       "        text-align: left;\n",
       "    }\n",
       "\n",
       "    .dataframe tbody tr th {\n",
       "        vertical-align: top;\n",
       "    }\n",
       "</style>\n",
       "<table border=\"1\" class=\"dataframe\">\n",
       "  <thead>\n",
       "    <tr style=\"text-align: right;\">\n",
       "      <th></th>\n",
       "      <th>AGYTYP</th>\n",
       "      <th>AGYTYPT</th>\n",
       "      <th>AGY</th>\n",
       "      <th>AGYT</th>\n",
       "      <th>AGYSUB</th>\n",
       "      <th>AGYSUBT</th>\n",
       "    </tr>\n",
       "  </thead>\n",
       "  <tbody>\n",
       "    <tr>\n",
       "      <th>0</th>\n",
       "      <td>1</td>\n",
       "      <td>Cabinet Level Agencies</td>\n",
       "      <td>AF</td>\n",
       "      <td>AF-DEPARTMENT OF THE AIR FORCE</td>\n",
       "      <td>AF02</td>\n",
       "      <td>AF02-AIR FORCE INSPECTION AGENCY (FO)</td>\n",
       "    </tr>\n",
       "    <tr>\n",
       "      <th>1</th>\n",
       "      <td>1</td>\n",
       "      <td>Cabinet Level Agencies</td>\n",
       "      <td>AF</td>\n",
       "      <td>AF-DEPARTMENT OF THE AIR FORCE</td>\n",
       "      <td>AF03</td>\n",
       "      <td>AF03-AIR FORCE OPERATIONAL TEST AND EVALUATION...</td>\n",
       "    </tr>\n",
       "    <tr>\n",
       "      <th>2</th>\n",
       "      <td>1</td>\n",
       "      <td>Cabinet Level Agencies</td>\n",
       "      <td>AF</td>\n",
       "      <td>AF-DEPARTMENT OF THE AIR FORCE</td>\n",
       "      <td>AF06</td>\n",
       "      <td>AF06-AIR FORCE AUDIT AGENCY</td>\n",
       "    </tr>\n",
       "  </tbody>\n",
       "</table>\n",
       "</div>"
      ],
      "text/plain": [
       "   AGYTYP                 AGYTYPT AGY                            AGYT AGYSUB  \\\n",
       "0       1  Cabinet Level Agencies  AF  AF-DEPARTMENT OF THE AIR FORCE   AF02   \n",
       "1       1  Cabinet Level Agencies  AF  AF-DEPARTMENT OF THE AIR FORCE   AF03   \n",
       "2       1  Cabinet Level Agencies  AF  AF-DEPARTMENT OF THE AIR FORCE   AF06   \n",
       "\n",
       "                                             AGYSUBT  \n",
       "0              AF02-AIR FORCE INSPECTION AGENCY (FO)  \n",
       "1  AF03-AIR FORCE OPERATIONAL TEST AND EVALUATION...  \n",
       "2                        AF06-AIR FORCE AUDIT AGENCY  "
      ]
     },
     "execution_count": 25,
     "metadata": {},
     "output_type": "execute_result"
    }
   ],
   "source": [
    "agencies.head(3)"
   ]
  },
  {
   "cell_type": "code",
   "execution_count": 26,
   "metadata": {
    "collapsed": false
   },
   "outputs": [
    {
     "data": {
      "text/plain": [
       "AGYTYPT\n",
       "Cabinet Level Agencies                                  388\n",
       "Large Independent Agencies (1000 or more employees)      54\n",
       "Medium Independent Agencies (100-999 employees)          33\n",
       "Small Independent Agencies (less than 100 employees)     56\n",
       "dtype: int64"
      ]
     },
     "execution_count": 26,
     "metadata": {},
     "output_type": "execute_result"
    }
   ],
   "source": [
    "agencies.groupby('AGYTYPT').size()"
   ]
  },
  {
   "cell_type": "code",
   "execution_count": 27,
   "metadata": {
    "collapsed": false
   },
   "outputs": [
    {
     "data": {
      "image/png": "[encoded data removed]",
      "text/plain": [
       "<matplotlib.figure.Figure at 0x2d751ac8>"
      ]
     },
     "metadata": {},
     "output_type": "display_data"
    },
    {
     "name": "stdout",
     "output_type": "stream",
     "text": [
      "     AGYTYP                                            AGYTYPT AGY  \\\n",
      "0         1                             Cabinet Level Agencies  AF   \n",
      "1         1                             Cabinet Level Agencies  AF   \n",
      "2         1                             Cabinet Level Agencies  AF   \n",
      "3         1                             Cabinet Level Agencies  AF   \n",
      "4         1                             Cabinet Level Agencies  AF   \n",
      "5         1                             Cabinet Level Agencies  AF   \n",
      "6         1                             Cabinet Level Agencies  AF   \n",
      "7         1                             Cabinet Level Agencies  AF   \n",
      "8         1                             Cabinet Level Agencies  AF   \n",
      "9         1                             Cabinet Level Agencies  AF   \n",
      "10        1                             Cabinet Level Agencies  AF   \n",
      "11        1                             Cabinet Level Agencies  AF   \n",
      "12        1                             Cabinet Level Agencies  AF   \n",
      "13        1                             Cabinet Level Agencies  AF   \n",
      "14        1                             Cabinet Level Agencies  AF   \n",
      "15        1                             Cabinet Level Agencies  AF   \n",
      "16        1                             Cabinet Level Agencies  AF   \n",
      "17        1                             Cabinet Level Agencies  AF   \n",
      "18        1                             Cabinet Level Agencies  AF   \n",
      "19        1                             Cabinet Level Agencies  AF   \n",
      "20        1                             Cabinet Level Agencies  AF   \n",
      "21        1                             Cabinet Level Agencies  AF   \n",
      "22        1                             Cabinet Level Agencies  AF   \n",
      "23        1                             Cabinet Level Agencies  AF   \n",
      "24        1                             Cabinet Level Agencies  AF   \n",
      "25        1                             Cabinet Level Agencies  AF   \n",
      "26        1                             Cabinet Level Agencies  AF   \n",
      "27        1                             Cabinet Level Agencies  AF   \n",
      "28        1                             Cabinet Level Agencies  AF   \n",
      "29        1                             Cabinet Level Agencies  AF   \n",
      "..      ...                                                ...  ..   \n",
      "501       4  Small Independent Agencies (less than 100 empl...  GO   \n",
      "502       4  Small Independent Agencies (less than 100 empl...  GQ   \n",
      "503       4  Small Independent Agencies (less than 100 empl...  GX   \n",
      "504       4  Small Independent Agencies (less than 100 empl...  GY   \n",
      "505       4  Small Independent Agencies (less than 100 empl...  HB   \n",
      "506       4  Small Independent Agencies (less than 100 empl...  HB   \n",
      "507       4  Small Independent Agencies (less than 100 empl...  HP   \n",
      "508       4  Small Independent Agencies (less than 100 empl...  HT   \n",
      "509       4  Small Independent Agencies (less than 100 empl...  HW   \n",
      "510       4  Small Independent Agencies (less than 100 empl...  IF   \n",
      "511       4  Small Independent Agencies (less than 100 empl...  IG   \n",
      "512       4  Small Independent Agencies (less than 100 empl...  MA   \n",
      "513       4  Small Independent Agencies (less than 100 empl...  NK   \n",
      "514       4  Small Independent Agencies (less than 100 empl...  NM   \n",
      "515       4  Small Independent Agencies (less than 100 empl...  NP   \n",
      "516       4  Small Independent Agencies (less than 100 empl...  NS   \n",
      "517       4  Small Independent Agencies (less than 100 empl...  OS   \n",
      "518       4  Small Independent Agencies (less than 100 empl...  QQ   \n",
      "519       4  Small Independent Agencies (less than 100 empl...  RE   \n",
      "520       4  Small Independent Agencies (less than 100 empl...  RO   \n",
      "521       4  Small Independent Agencies (less than 100 empl...  RS   \n",
      "522       4  Small Independent Agencies (less than 100 empl...  TS   \n",
      "523       4  Small Independent Agencies (less than 100 empl...  UJ   \n",
      "524       4  Small Independent Agencies (less than 100 empl...  UT   \n",
      "525       4  Small Independent Agencies (less than 100 empl...  VD   \n",
      "526       4  Small Independent Agencies (less than 100 empl...  WX   \n",
      "527       4  Small Independent Agencies (less than 100 empl...  ZL   \n",
      "528       4  Small Independent Agencies (less than 100 empl...  ZP   \n",
      "529       4  Small Independent Agencies (less than 100 empl...  ZS   \n",
      "530       4  Small Independent Agencies (less than 100 empl...  ZU   \n",
      "\n",
      "                                                  AGYT AGYSUB  \\\n",
      "0                       AF-DEPARTMENT OF THE AIR FORCE   AF02   \n",
      "1                       AF-DEPARTMENT OF THE AIR FORCE   AF03   \n",
      "2                       AF-DEPARTMENT OF THE AIR FORCE   AF06   \n",
      "3                       AF-DEPARTMENT OF THE AIR FORCE   AF07   \n",
      "4                       AF-DEPARTMENT OF THE AIR FORCE   AF09   \n",
      "5                       AF-DEPARTMENT OF THE AIR FORCE   AF0B   \n",
      "6                       AF-DEPARTMENT OF THE AIR FORCE   AF0D   \n",
      "7                       AF-DEPARTMENT OF THE AIR FORCE   AF0J   \n",
      "8                       AF-DEPARTMENT OF THE AIR FORCE   AF0M   \n",
      "9                       AF-DEPARTMENT OF THE AIR FORCE   AF0R   \n",
      "10                      AF-DEPARTMENT OF THE AIR FORCE   AF0U   \n",
      "11                      AF-DEPARTMENT OF THE AIR FORCE   AF0V   \n",
      "12                      AF-DEPARTMENT OF THE AIR FORCE   AF12   \n",
      "13                      AF-DEPARTMENT OF THE AIR FORCE   AF13   \n",
      "14                      AF-DEPARTMENT OF THE AIR FORCE   AF16   \n",
      "15                      AF-DEPARTMENT OF THE AIR FORCE   AF17   \n",
      "16                      AF-DEPARTMENT OF THE AIR FORCE   AF1B   \n",
      "17                      AF-DEPARTMENT OF THE AIR FORCE   AF1C   \n",
      "18                      AF-DEPARTMENT OF THE AIR FORCE   AF1L   \n",
      "19                      AF-DEPARTMENT OF THE AIR FORCE   AF1M   \n",
      "20                      AF-DEPARTMENT OF THE AIR FORCE   AF1Q   \n",
      "21                      AF-DEPARTMENT OF THE AIR FORCE   AF1S   \n",
      "22                      AF-DEPARTMENT OF THE AIR FORCE   AF1Y   \n",
      "23                      AF-DEPARTMENT OF THE AIR FORCE   AF20   \n",
      "24                      AF-DEPARTMENT OF THE AIR FORCE   AF2A   \n",
      "25                      AF-DEPARTMENT OF THE AIR FORCE   AF2E   \n",
      "26                      AF-DEPARTMENT OF THE AIR FORCE   AF2F   \n",
      "27                      AF-DEPARTMENT OF THE AIR FORCE   AF2H   \n",
      "28                      AF-DEPARTMENT OF THE AIR FORCE   AF2I   \n",
      "29                      AF-DEPARTMENT OF THE AIR FORCE   AF2K   \n",
      "..                                                 ...    ...   \n",
      "501                    GO-VIETNAM EDUCATION FOUNDATION   GO00   \n",
      "502                  GQ-ELECTION ASSISTANCE COMMISSION   GQ00   \n",
      "503  GX-INTERNATIONAL BOUNDARY COMMISSION:  UNITED ...   GX00   \n",
      "504  GY-INTERNATIONAL JOINT COMMISSION:  UNITED STA...   GY00   \n",
      "505  HB-COMMITTEE FOR PURCHASE FROM PEOPLE WHO ARE ...   HB01   \n",
      "506  HB-COMMITTEE FOR PURCHASE FROM PEOPLE WHO ARE ...   HB02   \n",
      "507       HP-ADVISORY COUNCIL ON HISTORIC PRESERVATION   HP00   \n",
      "508          HT-HARRY S. TRUMAN SCHOLARSHIP FOUNDATION   HT00   \n",
      "509        HW-U.S. INTERAGENCY COUNCIL ON HOMELESSNESS   HW00   \n",
      "510                       IF-INTER-AMERICAN FOUNDATION   IF00   \n",
      "511  IG-COUNCIL OF THE INSPECTORS GENERAL ON INTEGR...   IG00   \n",
      "512                        MA-MARINE MAMMAL COMMISSION   MA00   \n",
      "513                  NK-NATIONAL COUNCIL ON DISABILITY   NK00   \n",
      "514                        NM-NATIONAL MEDIATION BOARD   NM00   \n",
      "515            NP-NATIONAL CAPITAL PLANNING COMMISSION   NP00   \n",
      "516                       NS-NATIONAL SECURITY COUNCIL   NS00   \n",
      "517  OS-OCCUPATIONAL SAFETY AND HEALTH REVIEW COMMI...   OS00   \n",
      "518          QQ-OFFICE OF NATIONAL DRUG CONTROL POLICY   QQ00   \n",
      "519     RE-OFFICE OF NAVAJO AND HOPI INDIAN RELOCATION   RE00   \n",
      "520  RO-MEDICAID AND CHIP PAYMENT AND ACCESS COMMIS...   RO00   \n",
      "521  RS-FEDERAL MINE SAFETY AND HEALTH REVIEW COMMI...   RS00   \n",
      "522         TS-OFFICE OF SCIENCE AND TECHNOLOGY POLICY   TS00   \n",
      "523       UJ-JAPAN-UNITED STATES FRIENDSHIP COMMISSION   UJ00   \n",
      "524  UT-UTAH RECLAMATION MITIGATION AND CONSERVATIO...   UT00   \n",
      "525     VD-PRIVACY AND CIVIL LIBERTIES OVERSIGHT BOARD   VD00   \n",
      "526               WX-WORLD WAR 1 CENTENNIAL COMMISSION   WX00   \n",
      "527            ZL-MEDICARE PAYMENT ADVISORY COMMISSION   ZL**   \n",
      "528  ZP-U.S. COMMISSION ON INTERNATIONAL RELIGIOUS ...   ZP00   \n",
      "529  ZS-UNITED STATES-CHINA ECONOMIC AND SECURITY R...   ZS00   \n",
      "530        ZU-DWIGHT D. EISENHOWER MEMORIAL COMMISSION   ZU00   \n",
      "\n",
      "                                               AGYSUBT  \n",
      "0                AF02-AIR FORCE INSPECTION AGENCY (FO)  \n",
      "1    AF03-AIR FORCE OPERATIONAL TEST AND EVALUATION...  \n",
      "2                          AF06-AIR FORCE AUDIT AGENCY  \n",
      "3      AF07-AIR FORCE OFFICE OF SPECIAL INVESTIGATIONS  \n",
      "4                      AF09-AIR FORCE PERSONNEL CENTER  \n",
      "5                          AF0B-U.S. AIR FORCE ACADEMY  \n",
      "6                         AF0D-U.S. AIR FORCES, EUROPE  \n",
      "7              AF0J-AIR EDUCATION AND TRAINING COMMAND  \n",
      "8         AF0M-HEADQUARTERS, AIR FORCE RESERVE COMMAND  \n",
      "9                              AF0R-PACIFIC AIR FORCES  \n",
      "10                                          AF0U-25 AF  \n",
      "11           AF0V-AIR FORCE SPECIAL OPERATIONS COMMAND  \n",
      "12                AF12-AIR FORCE PUBLIC AFFAIRS AGENCY  \n",
      "13                   AF13-HQ USAF AND SUPPORT ELEMENTS  \n",
      "14          AF16-AIR FORCE MORTUARY AFFAIRS OPERATIONS  \n",
      "15            AF17-AF INSTALLATION AND MISSION SUPPORT  \n",
      "16             AF1B-AIR FORCE MANPOWER ANALYSIS AGENCY  \n",
      "17                             AF1C-AIR COMBAT COMMAND  \n",
      "18                           AF1L-AIR MOBILITY COMMAND  \n",
      "19                     AF1M-AIR FORCE MATERIEL COMMAND  \n",
      "20                  AF1Q-HQ AF FLIGHT STANDARDS AGENCY  \n",
      "21          AF1S-HEADQUARTERS, AIR FORCE SPACE COMMAND  \n",
      "22             AF1Y-AIR FORCE CIVILIAN CAREER TRAINING  \n",
      "23       AF20-AIR FORCE AGENCY FOR MODELING/SIMULATION  \n",
      "24                 AF2A-AIR FORCE COST ANALYSIS AGENCY  \n",
      "25              AF2E-AIR FORCE LEGAL OPERATIONS AGENCY  \n",
      "26               AF2F-AIR FORCE MEDICAL SUPPORT AGENCY  \n",
      "27                     AF2H-AIR FORCE OPERATIONS GROUP  \n",
      "28              AF2I-AIR NATIONAL GUARD SUPPORT CENTER  \n",
      "29           AF2K-AIR FORCE HISTORICAL RESEARCH AGENCY  \n",
      "..                                                 ...  \n",
      "501                  GO00-VIETNAM EDUCATION FOUNDATION  \n",
      "502                GQ00-ELECTION ASSISTANCE COMMISSION  \n",
      "503  GX00-INTERNATIONAL BOUNDARY COMMISSION:  UNITE...  \n",
      "504  GY00-INTERNATIONAL JOINT COMMISSION:  UNITED S...  \n",
      "505  HB01-OFFICE OF THE COMMITTEE FOR PURCHASE FROM...  \n",
      "506                   HB02-OFFICE OF INSPECTOR GENERAL  \n",
      "507     HP00-ADVISORY COUNCIL ON HISTORIC PRESERVATION  \n",
      "508        HT00-HARRY S. TRUMAN SCHOLARSHIP FOUNDATION  \n",
      "509      HW00-U.S. INTERAGENCY COUNCIL ON HOMELESSNESS  \n",
      "510                     IF00-INTER-AMERICAN FOUNDATION  \n",
      "511  IG00-COUNCIL OF THE INSPECTORS GENERAL ON INTE...  \n",
      "512                      MA00-MARINE MAMMAL COMMISSION  \n",
      "513                NK00-NATIONAL COUNCIL ON DISABILITY  \n",
      "514                      NM00-NATIONAL MEDIATION BOARD  \n",
      "515          NP00-NATIONAL CAPITAL PLANNING COMMISSION  \n",
      "516                     NS00-NATIONAL SECURITY COUNCIL  \n",
      "517  OS00-OCCUPATIONAL SAFETY AND HEALTH REVIEW COM...  \n",
      "518        QQ00-OFFICE OF NATIONAL DRUG CONTROL POLICY  \n",
      "519   RE00-OFFICE OF NAVAJO AND HOPI INDIAN RELOCATION  \n",
      "520  RO00-MEDICAID AND CHIP PAYMENT AND ACCESS COMM...  \n",
      "521  RS00-FEDERAL MINE SAFETY AND HEALTH REVIEW COM...  \n",
      "522       TS00-OFFICE OF SCIENCE AND TECHNOLOGY POLICY  \n",
      "523     UJ00-JAPAN-UNITED STATES FRIENDSHIP COMMISSION  \n",
      "524  UT00-UTAH RECLAMATION MITIGATION AND CONSERVAT...  \n",
      "525   VD00-PRIVACY AND CIVIL LIBERTIES OVERSIGHT BOARD  \n",
      "526             WX00-WORLD WAR 1 CENTENNIAL COMMISSION  \n",
      "527                                   ZL**-UNSPECIFIED  \n",
      "528  ZP00-U.S. COMMISSION ON INTERNATIONAL RELIGIOU...  \n",
      "529  ZS00-UNITED STATES-CHINA ECONOMIC AND SECURITY...  \n",
      "530      ZU00-DWIGHT D. EISENHOWER MEMORIAL COMMISSION  \n",
      "\n",
      "[531 rows x 6 columns]\n"
     ]
    }
   ],
   "source": [
    "# Next, agencies\n",
    "translation_filename = 'DTagy.txt'\n",
    "#translation = pd.read_csv(translation_filename)\n",
    "plt.figure()\n",
    "# Standardize entry type\n",
    "# df.SUPERVIS = df.SUPERVIS.apply(str)\n",
    "df.groupby('AGYSUB').size().plot.bar()\n",
    "plt.yscale(\"log\")\n",
    "plt.show()\n",
    "print pd.read_csv(translation_filename)"
   ]
  },
  {
   "cell_type": "markdown",
   "metadata": {},
   "source": [
    "** Agencies don't seem to help either :( **"
   ]
  },
  {
   "cell_type": "code",
   "execution_count": 28,
   "metadata": {
    "collapsed": true
   },
   "outputs": [],
   "source": [
    "groupedby_loc = df[df.LOC.str.isnumeric()].groupby('LOC').size()"
   ]
  },
  {
   "cell_type": "code",
   "execution_count": 33,
   "metadata": {
    "collapsed": false,
    "scrolled": true
   },
   "outputs": [
    {
     "data": {
      "text/plain": [
       "10969"
      ]
     },
     "execution_count": 33,
     "metadata": {},
     "output_type": "execute_result"
    }
   ],
   "source": [
    "groupedby_loc.loc['02']"
   ]
  },
  {
   "cell_type": "code",
   "execution_count": 34,
   "metadata": {
    "collapsed": false
   },
   "outputs": [],
   "source": [
    "#groupedby_loc = df[df.LOC.str.isnumeric()].groupby('LOC').size()\n",
    "employee_concentration = df[df.LOC.str.isnumeric()].LOC.apply(lambda x: 'low' if groupedby_loc.loc[x] < 35000 else 'medium' if groupedby_loc.loc[x] < 80000 else 'high')"
   ]
  },
  {
   "cell_type": "code",
   "execution_count": 35,
   "metadata": {
    "collapsed": false,
    "scrolled": true
   },
   "outputs": [
    {
     "data": {
      "text/html": [
       "<div>\n",
       "<style>\n",
       "    .dataframe thead tr:only-child th {\n",
       "        text-align: right;\n",
       "    }\n",
       "\n",
       "    .dataframe thead th {\n",
       "        text-align: left;\n",
       "    }\n",
       "\n",
       "    .dataframe tbody tr th {\n",
       "        vertical-align: top;\n",
       "    }\n",
       "</style>\n",
       "<table border=\"1\" class=\"dataframe\">\n",
       "  <thead>\n",
       "    <tr style=\"text-align: right;\">\n",
       "      <th></th>\n",
       "      <th>LOCTYP</th>\n",
       "      <th>LOCTYPT</th>\n",
       "      <th>LOC</th>\n",
       "      <th>LOCT</th>\n",
       "    </tr>\n",
       "  </thead>\n",
       "  <tbody>\n",
       "    <tr>\n",
       "      <th>1</th>\n",
       "      <td>1</td>\n",
       "      <td>United States</td>\n",
       "      <td>02</td>\n",
       "      <td>02-ALASKA</td>\n",
       "    </tr>\n",
       "    <tr>\n",
       "      <th>2</th>\n",
       "      <td>1</td>\n",
       "      <td>United States</td>\n",
       "      <td>04</td>\n",
       "      <td>04-ARIZONA</td>\n",
       "    </tr>\n",
       "    <tr>\n",
       "      <th>3</th>\n",
       "      <td>1</td>\n",
       "      <td>United States</td>\n",
       "      <td>05</td>\n",
       "      <td>05-ARKANSAS</td>\n",
       "    </tr>\n",
       "    <tr>\n",
       "      <th>6</th>\n",
       "      <td>1</td>\n",
       "      <td>United States</td>\n",
       "      <td>09</td>\n",
       "      <td>09-CONNECTICUT</td>\n",
       "    </tr>\n",
       "    <tr>\n",
       "      <th>7</th>\n",
       "      <td>1</td>\n",
       "      <td>United States</td>\n",
       "      <td>10</td>\n",
       "      <td>10-DELAWARE</td>\n",
       "    </tr>\n",
       "    <tr>\n",
       "      <th>11</th>\n",
       "      <td>1</td>\n",
       "      <td>United States</td>\n",
       "      <td>15</td>\n",
       "      <td>15-HAWAII</td>\n",
       "    </tr>\n",
       "    <tr>\n",
       "      <th>12</th>\n",
       "      <td>1</td>\n",
       "      <td>United States</td>\n",
       "      <td>16</td>\n",
       "      <td>16-IDAHO</td>\n",
       "    </tr>\n",
       "    <tr>\n",
       "      <th>14</th>\n",
       "      <td>1</td>\n",
       "      <td>United States</td>\n",
       "      <td>18</td>\n",
       "      <td>18-INDIANA</td>\n",
       "    </tr>\n",
       "    <tr>\n",
       "      <th>15</th>\n",
       "      <td>1</td>\n",
       "      <td>United States</td>\n",
       "      <td>19</td>\n",
       "      <td>19-IOWA</td>\n",
       "    </tr>\n",
       "    <tr>\n",
       "      <th>16</th>\n",
       "      <td>1</td>\n",
       "      <td>United States</td>\n",
       "      <td>20</td>\n",
       "      <td>20-KANSAS</td>\n",
       "    </tr>\n",
       "    <tr>\n",
       "      <th>17</th>\n",
       "      <td>1</td>\n",
       "      <td>United States</td>\n",
       "      <td>21</td>\n",
       "      <td>21-KENTUCKY</td>\n",
       "    </tr>\n",
       "    <tr>\n",
       "      <th>18</th>\n",
       "      <td>1</td>\n",
       "      <td>United States</td>\n",
       "      <td>22</td>\n",
       "      <td>22-LOUISIANA</td>\n",
       "    </tr>\n",
       "    <tr>\n",
       "      <th>19</th>\n",
       "      <td>1</td>\n",
       "      <td>United States</td>\n",
       "      <td>23</td>\n",
       "      <td>23-MAINE</td>\n",
       "    </tr>\n",
       "    <tr>\n",
       "      <th>21</th>\n",
       "      <td>1</td>\n",
       "      <td>United States</td>\n",
       "      <td>25</td>\n",
       "      <td>25-MASSACHUSETTS</td>\n",
       "    </tr>\n",
       "    <tr>\n",
       "      <th>22</th>\n",
       "      <td>1</td>\n",
       "      <td>United States</td>\n",
       "      <td>26</td>\n",
       "      <td>26-MICHIGAN</td>\n",
       "    </tr>\n",
       "    <tr>\n",
       "      <th>23</th>\n",
       "      <td>1</td>\n",
       "      <td>United States</td>\n",
       "      <td>27</td>\n",
       "      <td>27-MINNESOTA</td>\n",
       "    </tr>\n",
       "    <tr>\n",
       "      <th>24</th>\n",
       "      <td>1</td>\n",
       "      <td>United States</td>\n",
       "      <td>28</td>\n",
       "      <td>28-MISSISSIPPI</td>\n",
       "    </tr>\n",
       "    <tr>\n",
       "      <th>26</th>\n",
       "      <td>1</td>\n",
       "      <td>United States</td>\n",
       "      <td>30</td>\n",
       "      <td>30-MONTANA</td>\n",
       "    </tr>\n",
       "    <tr>\n",
       "      <th>27</th>\n",
       "      <td>1</td>\n",
       "      <td>United States</td>\n",
       "      <td>31</td>\n",
       "      <td>31-NEBRASKA</td>\n",
       "    </tr>\n",
       "    <tr>\n",
       "      <th>28</th>\n",
       "      <td>1</td>\n",
       "      <td>United States</td>\n",
       "      <td>32</td>\n",
       "      <td>32-NEVADA</td>\n",
       "    </tr>\n",
       "    <tr>\n",
       "      <th>29</th>\n",
       "      <td>1</td>\n",
       "      <td>United States</td>\n",
       "      <td>33</td>\n",
       "      <td>33-NEW HAMPSHIRE</td>\n",
       "    </tr>\n",
       "    <tr>\n",
       "      <th>30</th>\n",
       "      <td>1</td>\n",
       "      <td>United States</td>\n",
       "      <td>34</td>\n",
       "      <td>34-NEW JERSEY</td>\n",
       "    </tr>\n",
       "    <tr>\n",
       "      <th>31</th>\n",
       "      <td>1</td>\n",
       "      <td>United States</td>\n",
       "      <td>35</td>\n",
       "      <td>35-NEW MEXICO</td>\n",
       "    </tr>\n",
       "    <tr>\n",
       "      <th>34</th>\n",
       "      <td>1</td>\n",
       "      <td>United States</td>\n",
       "      <td>38</td>\n",
       "      <td>38-NORTH DAKOTA</td>\n",
       "    </tr>\n",
       "    <tr>\n",
       "      <th>37</th>\n",
       "      <td>1</td>\n",
       "      <td>United States</td>\n",
       "      <td>41</td>\n",
       "      <td>41-OREGON</td>\n",
       "    </tr>\n",
       "    <tr>\n",
       "      <th>39</th>\n",
       "      <td>1</td>\n",
       "      <td>United States</td>\n",
       "      <td>44</td>\n",
       "      <td>44-RHODE ISLAND</td>\n",
       "    </tr>\n",
       "    <tr>\n",
       "      <th>40</th>\n",
       "      <td>1</td>\n",
       "      <td>United States</td>\n",
       "      <td>45</td>\n",
       "      <td>45-SOUTH CAROLINA</td>\n",
       "    </tr>\n",
       "    <tr>\n",
       "      <th>41</th>\n",
       "      <td>1</td>\n",
       "      <td>United States</td>\n",
       "      <td>46</td>\n",
       "      <td>46-SOUTH DAKOTA</td>\n",
       "    </tr>\n",
       "    <tr>\n",
       "      <th>42</th>\n",
       "      <td>1</td>\n",
       "      <td>United States</td>\n",
       "      <td>47</td>\n",
       "      <td>47-TENNESSEE</td>\n",
       "    </tr>\n",
       "    <tr>\n",
       "      <th>44</th>\n",
       "      <td>1</td>\n",
       "      <td>United States</td>\n",
       "      <td>49</td>\n",
       "      <td>49-UTAH</td>\n",
       "    </tr>\n",
       "    <tr>\n",
       "      <th>45</th>\n",
       "      <td>1</td>\n",
       "      <td>United States</td>\n",
       "      <td>50</td>\n",
       "      <td>50-VERMONT</td>\n",
       "    </tr>\n",
       "    <tr>\n",
       "      <th>48</th>\n",
       "      <td>1</td>\n",
       "      <td>United States</td>\n",
       "      <td>54</td>\n",
       "      <td>54-WEST VIRGINIA</td>\n",
       "    </tr>\n",
       "    <tr>\n",
       "      <th>49</th>\n",
       "      <td>1</td>\n",
       "      <td>United States</td>\n",
       "      <td>55</td>\n",
       "      <td>55-WISCONSIN</td>\n",
       "    </tr>\n",
       "    <tr>\n",
       "      <th>50</th>\n",
       "      <td>1</td>\n",
       "      <td>United States</td>\n",
       "      <td>56</td>\n",
       "      <td>56-WYOMING</td>\n",
       "    </tr>\n",
       "  </tbody>\n",
       "</table>\n",
       "</div>"
      ],
      "text/plain": [
       "    LOCTYP        LOCTYPT LOC               LOCT\n",
       "1        1  United States  02          02-ALASKA\n",
       "2        1  United States  04         04-ARIZONA\n",
       "3        1  United States  05        05-ARKANSAS\n",
       "6        1  United States  09     09-CONNECTICUT\n",
       "7        1  United States  10        10-DELAWARE\n",
       "11       1  United States  15          15-HAWAII\n",
       "12       1  United States  16           16-IDAHO\n",
       "14       1  United States  18         18-INDIANA\n",
       "15       1  United States  19            19-IOWA\n",
       "16       1  United States  20          20-KANSAS\n",
       "17       1  United States  21        21-KENTUCKY\n",
       "18       1  United States  22       22-LOUISIANA\n",
       "19       1  United States  23           23-MAINE\n",
       "21       1  United States  25   25-MASSACHUSETTS\n",
       "22       1  United States  26        26-MICHIGAN\n",
       "23       1  United States  27       27-MINNESOTA\n",
       "24       1  United States  28     28-MISSISSIPPI\n",
       "26       1  United States  30         30-MONTANA\n",
       "27       1  United States  31        31-NEBRASKA\n",
       "28       1  United States  32          32-NEVADA\n",
       "29       1  United States  33   33-NEW HAMPSHIRE\n",
       "30       1  United States  34      34-NEW JERSEY\n",
       "31       1  United States  35      35-NEW MEXICO\n",
       "34       1  United States  38    38-NORTH DAKOTA\n",
       "37       1  United States  41          41-OREGON\n",
       "39       1  United States  44    44-RHODE ISLAND\n",
       "40       1  United States  45  45-SOUTH CAROLINA\n",
       "41       1  United States  46    46-SOUTH DAKOTA\n",
       "42       1  United States  47       47-TENNESSEE\n",
       "44       1  United States  49            49-UTAH\n",
       "45       1  United States  50         50-VERMONT\n",
       "48       1  United States  54   54-WEST VIRGINIA\n",
       "49       1  United States  55       55-WISCONSIN\n",
       "50       1  United States  56         56-WYOMING"
      ]
     },
     "execution_count": 35,
     "metadata": {},
     "output_type": "execute_result"
    }
   ],
   "source": [
    "loc_df = pd.read_csv('DTloc.txt')\n",
    "\n",
    "low_states = np.unique(df[(df.LOC.str.isnumeric()) & (employee_concentration == 'low')].LOC.values)\n",
    "loc_df[loc_df.LOC.isin(low_states)]"
   ]
  },
  {
   "cell_type": "code",
   "execution_count": 36,
   "metadata": {
    "collapsed": false,
    "scrolled": true
   },
   "outputs": [
    {
     "data": {
      "image/png": "[encoded data removed]",
      "text/plain": [
       "<matplotlib.figure.Figure at 0x2cb7c240>"
      ]
     },
     "metadata": {},
     "output_type": "display_data"
    }
   ],
   "source": [
    "employee_concentration.groupby(employee_concentration).size().plot.bar()\n",
    "plt.show()"
   ]
  },
  {
   "cell_type": "code",
   "execution_count": 37,
   "metadata": {
    "collapsed": false,
    "scrolled": true
   },
   "outputs": [
    {
     "data": {
      "image/png": "[encoded data removed]",
      "text/plain": [
       "<matplotlib.figure.Figure at 0x245c6940>"
      ]
     },
     "metadata": {},
     "output_type": "display_data"
    },
    {
     "name": "stdout",
     "output_type": "stream",
     "text": [
      "    LOCTYP        LOCTYPT LOC                     LOCT\n",
      "0        1  United States  01               01-ALABAMA\n",
      "1        1  United States  02                02-ALASKA\n",
      "2        1  United States  04               04-ARIZONA\n",
      "3        1  United States  05              05-ARKANSAS\n",
      "4        1  United States  06            06-CALIFORNIA\n",
      "5        1  United States  08              08-COLORADO\n",
      "6        1  United States  09           09-CONNECTICUT\n",
      "7        1  United States  10              10-DELAWARE\n",
      "8        1  United States  11  11-DISTRICT OF COLUMBIA\n",
      "9        1  United States  12               12-FLORIDA\n",
      "10       1  United States  13               13-GEORGIA\n",
      "11       1  United States  15                15-HAWAII\n",
      "12       1  United States  16                 16-IDAHO\n",
      "13       1  United States  17              17-ILLINOIS\n",
      "14       1  United States  18               18-INDIANA\n",
      "15       1  United States  19                  19-IOWA\n",
      "16       1  United States  20                20-KANSAS\n",
      "17       1  United States  21              21-KENTUCKY\n",
      "18       1  United States  22             22-LOUISIANA\n",
      "19       1  United States  23                 23-MAINE\n",
      "20       1  United States  24              24-MARYLAND\n",
      "21       1  United States  25         25-MASSACHUSETTS\n",
      "22       1  United States  26              26-MICHIGAN\n",
      "23       1  United States  27             27-MINNESOTA\n",
      "24       1  United States  28           28-MISSISSIPPI\n",
      "25       1  United States  29              29-MISSOURI\n",
      "26       1  United States  30               30-MONTANA\n",
      "27       1  United States  31              31-NEBRASKA\n",
      "28       1  United States  32                32-NEVADA\n",
      "29       1  United States  33         33-NEW HAMPSHIRE\n",
      "30       1  United States  34            34-NEW JERSEY\n",
      "31       1  United States  35            35-NEW MEXICO\n",
      "32       1  United States  36              36-NEW YORK\n",
      "33       1  United States  37        37-NORTH CAROLINA\n",
      "34       1  United States  38          38-NORTH DAKOTA\n",
      "35       1  United States  39                  39-OHIO\n",
      "36       1  United States  40              40-OKLAHOMA\n",
      "37       1  United States  41                41-OREGON\n",
      "38       1  United States  42          42-PENNSYLVANIA\n",
      "39       1  United States  44          44-RHODE ISLAND\n",
      "40       1  United States  45        45-SOUTH CAROLINA\n",
      "41       1  United States  46          46-SOUTH DAKOTA\n",
      "42       1  United States  47             47-TENNESSEE\n",
      "43       1  United States  48                 48-TEXAS\n",
      "44       1  United States  49                  49-UTAH\n",
      "45       1  United States  50               50-VERMONT\n",
      "46       1  United States  51              51-VIRGINIA\n",
      "47       1  United States  53            53-WASHINGTON\n",
      "48       1  United States  54         54-WEST VIRGINIA\n",
      "49       1  United States  55             55-WISCONSIN\n",
      "50       1  United States  56               56-WYOMING\n"
     ]
    }
   ],
   "source": [
    "# Try location\n",
    "translation_filename = 'DTloc.txt'\n",
    "#translation = pd.read_csv(translation_filename)\n",
    "plt.figure()\n",
    "# Standardize entry type\n",
    "# df.SUPERVIS = df.SUPERVIS.apply(str)\n",
    "df[df.LOC.str.isnumeric()].groupby('LOC').size().plot.bar()\n",
    "#plt.yscale(\"log\")\n",
    "plt.show()\n",
    "print pd.read_csv(translation_filename)[pd.read_csv(translation_filename).LOC.str.isnumeric()]"
   ]
  },
  {
   "cell_type": "code",
   "execution_count": 38,
   "metadata": {
    "collapsed": false,
    "scrolled": true
   },
   "outputs": [
    {
     "data": {
      "text/html": [
       "\n",
       "                <audio controls=\"controls\" autoplay=\"autoplay\">\n",
       "                    <source src=\"./sound/beep-01a.wav\" type=\"audio/wav\" />\n",
       "                    Your browser does not support the audio element.\n",
       "                </audio>\n",
       "              "
      ],
      "text/plain": [
       "<IPython.lib.display.Audio object>"
      ]
     },
     "execution_count": 38,
     "metadata": {},
     "output_type": "execute_result"
    }
   ],
   "source": [
    "Audio(url=sound_file, autoplay=True)"
   ]
  },
  {
   "cell_type": "code",
   "execution_count": 47,
   "metadata": {
    "collapsed": false
   },
   "outputs": [
    {
     "data": {
      "image/png": "[encoded data removed]",
      "text/plain": [
       "<matplotlib.figure.Figure at 0x134e24e0>"
      ]
     },
     "metadata": {},
     "output_type": "display_data"
    },
    {
     "name": "stdout",
     "output_type": "stream",
     "text": [
      "    EDLVLTYP                    EDLVLTYPT EDLVL  \\\n",
      "0          1            BELOW HIGH SCHOOL    01   \n",
      "1          1            BELOW HIGH SCHOOL    02   \n",
      "2          1            BELOW HIGH SCHOOL    03   \n",
      "3          2   HIGH SCHOOL OR EQUIVALENCY    04   \n",
      "4          3         OCCUPATIONAL PROGRAM    05   \n",
      "5          3         OCCUPATIONAL PROGRAM    06   \n",
      "6          4       BETWEEN HS & BACHELORS    07   \n",
      "7          4       BETWEEN HS & BACHELORS    08   \n",
      "8          4       BETWEEN HS & BACHELORS    09   \n",
      "9          4       BETWEEN HS & BACHELORS    10   \n",
      "10         4       BETWEEN HS & BACHELORS    11   \n",
      "11         4       BETWEEN HS & BACHELORS    12   \n",
      "12         5                    BACHELORS    13   \n",
      "13         6               POST-BACHELORS    14   \n",
      "14         6               POST-BACHELORS    15   \n",
      "15         6               POST-BACHELORS    16   \n",
      "16         7                      MASTERS    17   \n",
      "17         8                 POST MASTERS    18   \n",
      "18         8                 POST MASTERS    19   \n",
      "19         8                 POST MASTERS    20   \n",
      "20         9                    DOCTORATE    21   \n",
      "21        10               POST-DOCTORATE    22   \n",
      "22        11                  UNSPECIFIED    **   \n",
      "23        12  NO EDUCATION LEVEL REPORTED   NaN   \n",
      "\n",
      "                                               EDLVLT  \n",
      "0   01-NO FORMAL EDUCATION OR SOME ELEMENTARY SCHO...  \n",
      "1     02-ELEMENTARY SCHOOL COMPLETED - NO HIGH SCHOOL  \n",
      "2              03-SOME HIGH SCHOOL - DID NOT COMPLETE  \n",
      "3   04-HIGH SCHOOL GRADUATE OR CERTIFICATE OF EQUI...  \n",
      "4   05-TERMINAL OCCUPATIONAL PROGRAM - DID NOT COM...  \n",
      "5   06-TERMINAL OCCUPATIONAL PROGRAM - CERTIFICATE...  \n",
      "6                07-SOME COLLEGE - LESS THAN ONE YEAR  \n",
      "7                                 08-ONE YEAR COLLEGE  \n",
      "8                                09-TWO YEARS COLLEGE  \n",
      "9                                 10-ASSOCIATE DEGREE  \n",
      "10                             11-THREE YEARS COLLEGE  \n",
      "11                              12-FOUR YEARS COLLEGE  \n",
      "12                               13-BACHELOR'S DEGREE  \n",
      "13                                 14-POST-BACHELOR'S  \n",
      "14                              15-FIRST PROFESSIONAL  \n",
      "15                         16-POST-FIRST PROFESSIONAL  \n",
      "16                                 17-MASTER'S DEGREE  \n",
      "17                                   18-POST-MASTER'S  \n",
      "18                               19-SIXTH-YEAR DEGREE  \n",
      "19                                 20-POST-SIXTH YEAR  \n",
      "20                                21-DOCTORATE DEGREE  \n",
      "21                                  22-POST-DOCTORATE  \n",
      "22                                     **-UNSPECIFIED  \n",
      "23                        NO EDUCATION LEVEL REPORTED  \n"
     ]
    }
   ],
   "source": [
    "# Next, educational level\n",
    "translation_filename = 'DTedlvl.txt'\n",
    "#translation = pd.read_csv(translation_filename)\n",
    "plt.figure()\n",
    "# Standardize entry type\n",
    "# df.SUPERVIS = df.SUPERVIS.apply(str)\n",
    "df.groupby('EDLVL').size().plot.bar()\n",
    "plt.yscale(\"log\")\n",
    "plt.show()\n",
    "print pd.read_csv(translation_filename)"
   ]
  },
  {
   "cell_type": "markdown",
   "metadata": {},
   "source": [
    "We have a lot of reason to merge the in-betweens into one same category, because they are basically to the same effect"
   ]
  },
  {
   "cell_type": "markdown",
   "metadata": {},
   "source": [
    "** After getting a little sense of what the dataset contains, it may be worth it to start thinking about what factors may affect insurance purchase or insurance premium **\n",
    "\n",
    "** For starters, location, age, education level, occupation,  **"
   ]
  }
 ],
 "metadata": {
  "anaconda-cloud": {},
  "kernelspec": {
   "display_name": "Python [default]",
   "language": "python",
   "name": "python2"
  },
  "language_info": {
   "codemirror_mode": {
    "name": "ipython",
    "version": 2
   },
   "file_extension": ".py",
   "mimetype": "text/x-python",
   "name": "python",
   "nbconvert_exporter": "python",
   "pygments_lexer": "ipython2",
   "version": "2.7.12"
  }
 },
 "nbformat": 4,
 "nbformat_minor": 1
}
