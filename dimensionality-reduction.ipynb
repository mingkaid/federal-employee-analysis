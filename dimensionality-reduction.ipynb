{
 "cells": [
  {
   "cell_type": "code",
   "execution_count": 2,
   "metadata": {
    "collapsed": true
   },
   "outputs": [],
   "source": [
    "# Loading necessary modules\n",
    "import pandas as pd\n",
    "import numpy as np\n",
    "import matplotlib.pyplot as plt\n",
    "from IPython.display import Audio\n",
    "sound_file = './sound/beep-01a.wav'"
   ]
  },
  {
   "cell_type": "code",
   "execution_count": 3,
   "metadata": {
    "collapsed": false,
    "scrolled": true
   },
   "outputs": [
    {
     "name": "stderr",
     "output_type": "stream",
     "text": [
      "D:\\Anaconda2\\lib\\site-packages\\IPython\\core\\interactiveshell.py:2717: DtypeWarning: Columns (3,4,6,11,12) have mixed types. Specify dtype option on import or set low_memory=False.\n",
      "  interactivity=interactivity, compiler=compiler, result=result)\n"
     ]
    },
    {
     "name": "stdout",
     "output_type": "stream",
     "text": [
      "(2087715, 19)\n",
      "AGYSUB         object\n",
      "LOC            object\n",
      "AGELVL         object\n",
      "EDLVL          object\n",
      "GSEGRD         object\n",
      "LOSLVL         object\n",
      "OCC            object\n",
      "PATCO          object\n",
      "PPGRD          object\n",
      "SALLVL         object\n",
      "STEMOCC        object\n",
      "SUPERVIS       object\n",
      "TOA            object\n",
      "WORKSCH        object\n",
      "WORKSTAT       object\n",
      "DATECODE       object\n",
      "EMPLOYMENT      int64\n",
      "SALARY        float64\n",
      "LOS           float64\n",
      "dtype: object\n"
     ]
    }
   ],
   "source": [
    "df = pd.read_csv('FACTDATA_MAR2017.txt')\n",
    "# fix datatypes\n",
    "column_names = df.columns.values\n",
    "column_datatypes = {}\n",
    "for i in range(16):\n",
    "    column_datatypes[column_names[i]] = str\n",
    "column_datatypes[column_names[16]] = np.int64\n",
    "for i in range(17, 19):\n",
    "    column_datatypes[column_names[i]] = np.float64\n",
    "#print len(column_datatypes)\n",
    "# Reload dataset\n",
    "df = pd.read_csv('FACTDATA_MAR2017.txt', dtype=column_datatypes)\n",
    "print df.shape\n",
    "print df.dtypes"
   ]
  },
  {
   "cell_type": "markdown",
   "metadata": {},
   "source": [
    "## List of columns and their attributes\n",
    "<center>\n",
    "AGYSUB   &emsp;   Agency     &emsp;    Non-ordinal<br />\n",
    "LOC      &emsp;   Location   &emsp;   Non-ordinal<br />\n",
    "AGELVL   &emsp;   Age Level     &emsp;     Ordinal<br />\n",
    "EDLVL    &emsp;   Educational level   &emsp;   Ordinal<br />\n",
    "GSEGRD   &emsp;   General Schedule and Equivalent Grade  &emsp;   Ordinal<br />\n",
    "LOSLVL   &emsp;   Length of Service Level   &emsp;    Ordinal<br />\n",
    "OCC      &emsp;   Occupation    &emsp;     Not Ordinal<br />\n",
    "PATCO     &emsp;  Occupation Category &emsp; Not Ordinal<br />\n",
    "PPGRD     &emsp;  Pay Plan and Grade   &emsp;   Ordinal<br />\n",
    "SALLVL    &emsp;     Salary Level    &emsp;   Ordinal<br />\n",
    "STEMOCC   &emsp;     STEM Occupation &emsp; Not Ordinal<br />\n",
    "SUPERVIS  &emsp;     Supervisory Status   &emsp;   Ordinal<br />\n",
    "TOA       &emsp;     Type of Appointment &emsp; Not Ordinal<br />\n",
    "WORKSCH   &emsp;     Work Schedule   &emsp;   Ordinal<br />\n",
    "WORKSTAT  &emsp;     Work Status &emsp; Not Ordinal<br />\n",
    "SALARY    &emsp;    Salary<br />\n",
    "LOS       &emsp;    Length of Service<br />\n",
    "</center>"
   ]
  },
  {
   "cell_type": "markdown",
   "metadata": {},
   "source": [
    "** Ordinal Attributes on which I can turn into numeric labels **\n",
    "1. Age Level (reduced to, say, the average age of the interval of the label)\n",
    "2. Educational Level (reduced to, say, years of education)\n",
    "4. Supervisory Status\n",
    "5. Work Schedule (reduced to full-time vs non-full-time)\n",
    "\n",
    "** Attributes that can serve as numeric elements alone **\n",
    "6. Salary\n",
    "7. Length of Service\n",
    "\n",
    "** Attributes that will be interesting, but which we cannot convert into ordered variables **\n",
    "8. Location\n",
    "9. Occupation Category\n",
    "10. Whether it is STEM occupation"
   ]
  },
  {
   "cell_type": "markdown",
   "metadata": {},
   "source": [
    "## Data Cleaning"
   ]
  },
  {
   "cell_type": "code",
   "execution_count": 18,
   "metadata": {
    "collapsed": false,
    "scrolled": false
   },
   "outputs": [
    {
     "name": "stdout",
     "output_type": "stream",
     "text": [
      "(2081135, 20)\n",
      "(2079600, 20)\n"
     ]
    }
   ],
   "source": [
    "# First, remove columns that only have one kind of value because it provides us no information. \n",
    "#df = df.drop(['DATECODE', 'EMPLOYMENT'], axis='columns')\n",
    "# Second, remove \"unspecified\" values in all columns, as they are a trivial part of the population that do not provide much information\n",
    "# In the next step, it is worth it to really look at what people tend to have unspecified fields.\n",
    "# But for the purpose of this analysis we cannot care less about their internal management\n",
    "print df.shape\n",
    "df = df[(df.WORKSCH != '*') &\n",
    "        (df.SALLVL != 'Z') &\n",
    "        (df.PATCO != '9') &\n",
    "        (df.AGELVL != 'Z') & \n",
    "        (df.LOSLVL != 'Z') & \n",
    "        (df.SUPERVIS != '*') &\n",
    "        (df.GSEGRD != '**') &\n",
    "        (df.TOA != '**') &\n",
    "        (df.TOA != '99') &\n",
    "        (df.EDLVL != '**') & \n",
    "        (df.EDLVL.notnull())]\n",
    "print df.shape\n",
    "# For other columns there are too many values that I can't explore them in full"
   ]
  },
  {
   "cell_type": "markdown",
   "metadata": {},
   "source": [
    "## Data Manipulation"
   ]
  },
  {
   "cell_type": "markdown",
   "metadata": {},
   "source": [
    "The purpose of this step is to reduce the dimensions of the data to more simple terms."
   ]
  },
  {
   "cell_type": "code",
   "execution_count": 5,
   "metadata": {
    "collapsed": false
   },
   "outputs": [],
   "source": [
    "# Next step, we want to reduce the dimensions, so we want to transform categorical variables into ordinal, continuous variables\n",
    "# import seaborn\n",
    "import seaborn as sns"
   ]
  },
  {
   "cell_type": "code",
   "execution_count": 6,
   "metadata": {
    "collapsed": true
   },
   "outputs": [],
   "source": [
    "# find out the names of the occupation categories"
   ]
  },
  {
   "cell_type": "code",
   "execution_count": 8,
   "metadata": {
    "collapsed": false
   },
   "outputs": [
    {
     "name": "stdout",
     "output_type": "stream",
     "text": [
      "PATCO          1         2         3         4         5         6\n",
      "SALLVL                                                            \n",
      "A       0.000115  0.000050  0.000037  0.001396  0.000000  0.002391\n",
      "B       0.007469  0.002018  0.016089  0.105243  0.034523  0.047178\n",
      "C       0.002746  0.005011  0.170546  0.493675  0.096091  0.118497\n",
      "D       0.018540  0.027066  0.374229  0.291245  0.204772  0.216747\n",
      "E       0.038577  0.065629  0.249096  0.075367  0.197930  0.296032\n",
      "F       0.087523  0.113394  0.094996  0.023379  0.128350  0.184686\n",
      "G       0.120725  0.140286  0.041488  0.007938  0.090456  0.074765\n",
      "H       0.115792  0.135095  0.020826  0.001133  0.131833  0.031403\n",
      "I       0.110963  0.121919  0.014101  0.000362  0.061631  0.016307\n",
      "J       0.097345  0.108338  0.009452  0.000154  0.024421  0.007344\n",
      "K       0.088973  0.087895  0.004275  0.000072  0.013050  0.002271\n",
      "L       0.072227  0.060932  0.003334  0.000018  0.006606  0.000543\n",
      "M       0.051380  0.043213  0.000819  0.000009  0.004416  0.000407\n",
      "N       0.040669  0.033596  0.000425  0.000000  0.002140  0.000240\n",
      "O       0.029302  0.018103  0.000170  0.000009  0.001804  0.000355\n",
      "P       0.042849  0.021354  0.000094  0.000000  0.001704  0.000830\n",
      "Q       0.011896  0.006119  0.000014  0.000000  0.000075  0.000005\n",
      "R       0.062911  0.009983  0.000009  0.000000  0.000199  0.000000\n"
     ]
    },
    {
     "data": {
      "image/png": "[encoded data removed]",
      "text/plain": [
       "<matplotlib.figure.Figure at 0x1475eba8>"
      ]
     },
     "metadata": {},
     "output_type": "display_data"
    },
    {
     "data": {
      "image/png": "[encoded data removed]",
      "text/plain": [
       "<matplotlib.figure.Figure at 0xcfef048>"
      ]
     },
     "metadata": {},
     "output_type": "display_data"
    }
   ],
   "source": [
    "# Heat map of salary level vs occupation category\n",
    "SALLVL_vs_PATCO = df.groupby(['SALLVL', 'PATCO']).size().unstack().fillna(0).apply(lambda x: x / sum(x), axis='index')\n",
    "print SALLVL_vs_PATCO\n",
    "sns.heatmap(SALLVL_vs_PATCO, annot=True,cmap='cubehelix')\n",
    "SALLVL_vs_PATCO.plot()\n",
    "plt.legend(['Professional', 'Administrative', 'Technical', 'Clerical', 'Other White Collar', 'Blue Collar'])\n",
    "plt.show()"
   ]
  },
  {
   "cell_type": "markdown",
   "metadata": {
    "collapsed": false
   },
   "source": [
    "## Data Preparation\n",
    "\n",
    "In this step, I quantify ordinal categorical variables, but I want to know how I can classify other non-ordinal categorical data"
   ]
  },
  {
   "cell_type": "markdown",
   "metadata": {},
   "source": [
    "** First, there are these variables that I need to turn into numerical variables **\n",
    "1. Age Level (reduced to, say, the average age of the interval of the label)\n",
    "2. Educational Level (reduced to, say, years of education)\n",
    "4. Supervisory Status\n",
    "5. Work Schedule (reduced to full-time vs non-full-time)"
   ]
  },
  {
   "cell_type": "code",
   "execution_count": 9,
   "metadata": {
    "collapsed": false
   },
   "outputs": [
    {
     "data": {
      "text/html": [
       "<div>\n",
       "<style>\n",
       "    .dataframe thead tr:only-child th {\n",
       "        text-align: right;\n",
       "    }\n",
       "\n",
       "    .dataframe thead th {\n",
       "        text-align: left;\n",
       "    }\n",
       "\n",
       "    .dataframe tbody tr th {\n",
       "        vertical-align: top;\n",
       "    }\n",
       "</style>\n",
       "<table border=\"1\" class=\"dataframe\">\n",
       "  <thead>\n",
       "    <tr style=\"text-align: right;\">\n",
       "      <th></th>\n",
       "      <th>AGELVL</th>\n",
       "      <th>AGELVLT</th>\n",
       "    </tr>\n",
       "  </thead>\n",
       "  <tbody>\n",
       "    <tr>\n",
       "      <th>0</th>\n",
       "      <td>A</td>\n",
       "      <td>Less than 20</td>\n",
       "    </tr>\n",
       "    <tr>\n",
       "      <th>1</th>\n",
       "      <td>B</td>\n",
       "      <td>20-24</td>\n",
       "    </tr>\n",
       "    <tr>\n",
       "      <th>2</th>\n",
       "      <td>C</td>\n",
       "      <td>25-29</td>\n",
       "    </tr>\n",
       "    <tr>\n",
       "      <th>3</th>\n",
       "      <td>D</td>\n",
       "      <td>30-34</td>\n",
       "    </tr>\n",
       "    <tr>\n",
       "      <th>4</th>\n",
       "      <td>E</td>\n",
       "      <td>35-39</td>\n",
       "    </tr>\n",
       "    <tr>\n",
       "      <th>5</th>\n",
       "      <td>F</td>\n",
       "      <td>40-44</td>\n",
       "    </tr>\n",
       "    <tr>\n",
       "      <th>6</th>\n",
       "      <td>G</td>\n",
       "      <td>45-49</td>\n",
       "    </tr>\n",
       "    <tr>\n",
       "      <th>7</th>\n",
       "      <td>H</td>\n",
       "      <td>50-54</td>\n",
       "    </tr>\n",
       "    <tr>\n",
       "      <th>8</th>\n",
       "      <td>I</td>\n",
       "      <td>55-59</td>\n",
       "    </tr>\n",
       "    <tr>\n",
       "      <th>9</th>\n",
       "      <td>J</td>\n",
       "      <td>60-64</td>\n",
       "    </tr>\n",
       "    <tr>\n",
       "      <th>10</th>\n",
       "      <td>K</td>\n",
       "      <td>65 or more</td>\n",
       "    </tr>\n",
       "    <tr>\n",
       "      <th>11</th>\n",
       "      <td>Z</td>\n",
       "      <td>Unspecified</td>\n",
       "    </tr>\n",
       "  </tbody>\n",
       "</table>\n",
       "</div>"
      ],
      "text/plain": [
       "   AGELVL       AGELVLT\n",
       "0       A  Less than 20\n",
       "1       B         20-24\n",
       "2       C         25-29\n",
       "3       D         30-34\n",
       "4       E         35-39\n",
       "5       F         40-44\n",
       "6       G         45-49\n",
       "7       H         50-54\n",
       "8       I         55-59\n",
       "9       J         60-64\n",
       "10      K    65 or more\n",
       "11      Z   Unspecified"
      ]
     },
     "execution_count": 9,
     "metadata": {},
     "output_type": "execute_result"
    }
   ],
   "source": [
    "# Age Level\n",
    "# Print age level dataframe\n",
    "age_level = pd.read_csv('DTagelvl.txt')\n",
    "age_level"
   ]
  },
  {
   "cell_type": "code",
   "execution_count": 13,
   "metadata": {
    "collapsed": false
   },
   "outputs": [],
   "source": [
    "# Give a numeric value to age level\n",
    "age_lvls = [chr(num) for num in range(ord('A'), ord('A') + 11)]\n",
    "age_lvlt = 17\n",
    "age_dict = {}\n",
    "for age_lvl in age_lvls:\n",
    "    age_dict[age_lvl] = age_lvlt\n",
    "    age_lvlt += 5\n",
    "df['AGE'] = df['AGELVL'].map(lambda x: age_dict[x])"
   ]
  },
  {
   "cell_type": "code",
   "execution_count": 16,
   "metadata": {
    "collapsed": false,
    "scrolled": false
   },
   "outputs": [
    {
     "data": {
      "text/html": [
       "<div>\n",
       "<style>\n",
       "    .dataframe thead tr:only-child th {\n",
       "        text-align: right;\n",
       "    }\n",
       "\n",
       "    .dataframe thead th {\n",
       "        text-align: left;\n",
       "    }\n",
       "\n",
       "    .dataframe tbody tr th {\n",
       "        vertical-align: top;\n",
       "    }\n",
       "</style>\n",
       "<table border=\"1\" class=\"dataframe\">\n",
       "  <thead>\n",
       "    <tr style=\"text-align: right;\">\n",
       "      <th></th>\n",
       "      <th>EDLVLTYP</th>\n",
       "      <th>EDLVLTYPT</th>\n",
       "      <th>EDLVL</th>\n",
       "      <th>EDLVLT</th>\n",
       "    </tr>\n",
       "  </thead>\n",
       "  <tbody>\n",
       "    <tr>\n",
       "      <th>0</th>\n",
       "      <td>1</td>\n",
       "      <td>BELOW HIGH SCHOOL</td>\n",
       "      <td>01</td>\n",
       "      <td>01-NO FORMAL EDUCATION OR SOME ELEMENTARY SCHO...</td>\n",
       "    </tr>\n",
       "    <tr>\n",
       "      <th>1</th>\n",
       "      <td>1</td>\n",
       "      <td>BELOW HIGH SCHOOL</td>\n",
       "      <td>02</td>\n",
       "      <td>02-ELEMENTARY SCHOOL COMPLETED - NO HIGH SCHOOL</td>\n",
       "    </tr>\n",
       "    <tr>\n",
       "      <th>2</th>\n",
       "      <td>1</td>\n",
       "      <td>BELOW HIGH SCHOOL</td>\n",
       "      <td>03</td>\n",
       "      <td>03-SOME HIGH SCHOOL - DID NOT COMPLETE</td>\n",
       "    </tr>\n",
       "    <tr>\n",
       "      <th>3</th>\n",
       "      <td>2</td>\n",
       "      <td>HIGH SCHOOL OR EQUIVALENCY</td>\n",
       "      <td>04</td>\n",
       "      <td>04-HIGH SCHOOL GRADUATE OR CERTIFICATE OF EQUI...</td>\n",
       "    </tr>\n",
       "    <tr>\n",
       "      <th>4</th>\n",
       "      <td>3</td>\n",
       "      <td>OCCUPATIONAL PROGRAM</td>\n",
       "      <td>05</td>\n",
       "      <td>05-TERMINAL OCCUPATIONAL PROGRAM - DID NOT COM...</td>\n",
       "    </tr>\n",
       "    <tr>\n",
       "      <th>5</th>\n",
       "      <td>3</td>\n",
       "      <td>OCCUPATIONAL PROGRAM</td>\n",
       "      <td>06</td>\n",
       "      <td>06-TERMINAL OCCUPATIONAL PROGRAM - CERTIFICATE...</td>\n",
       "    </tr>\n",
       "    <tr>\n",
       "      <th>6</th>\n",
       "      <td>4</td>\n",
       "      <td>BETWEEN HS &amp; BACHELORS</td>\n",
       "      <td>07</td>\n",
       "      <td>07-SOME COLLEGE - LESS THAN ONE YEAR</td>\n",
       "    </tr>\n",
       "    <tr>\n",
       "      <th>7</th>\n",
       "      <td>4</td>\n",
       "      <td>BETWEEN HS &amp; BACHELORS</td>\n",
       "      <td>08</td>\n",
       "      <td>08-ONE YEAR COLLEGE</td>\n",
       "    </tr>\n",
       "    <tr>\n",
       "      <th>8</th>\n",
       "      <td>4</td>\n",
       "      <td>BETWEEN HS &amp; BACHELORS</td>\n",
       "      <td>09</td>\n",
       "      <td>09-TWO YEARS COLLEGE</td>\n",
       "    </tr>\n",
       "    <tr>\n",
       "      <th>9</th>\n",
       "      <td>4</td>\n",
       "      <td>BETWEEN HS &amp; BACHELORS</td>\n",
       "      <td>10</td>\n",
       "      <td>10-ASSOCIATE DEGREE</td>\n",
       "    </tr>\n",
       "    <tr>\n",
       "      <th>10</th>\n",
       "      <td>4</td>\n",
       "      <td>BETWEEN HS &amp; BACHELORS</td>\n",
       "      <td>11</td>\n",
       "      <td>11-THREE YEARS COLLEGE</td>\n",
       "    </tr>\n",
       "    <tr>\n",
       "      <th>11</th>\n",
       "      <td>4</td>\n",
       "      <td>BETWEEN HS &amp; BACHELORS</td>\n",
       "      <td>12</td>\n",
       "      <td>12-FOUR YEARS COLLEGE</td>\n",
       "    </tr>\n",
       "    <tr>\n",
       "      <th>12</th>\n",
       "      <td>5</td>\n",
       "      <td>BACHELORS</td>\n",
       "      <td>13</td>\n",
       "      <td>13-BACHELOR'S DEGREE</td>\n",
       "    </tr>\n",
       "    <tr>\n",
       "      <th>13</th>\n",
       "      <td>6</td>\n",
       "      <td>POST-BACHELORS</td>\n",
       "      <td>14</td>\n",
       "      <td>14-POST-BACHELOR'S</td>\n",
       "    </tr>\n",
       "    <tr>\n",
       "      <th>14</th>\n",
       "      <td>6</td>\n",
       "      <td>POST-BACHELORS</td>\n",
       "      <td>15</td>\n",
       "      <td>15-FIRST PROFESSIONAL</td>\n",
       "    </tr>\n",
       "    <tr>\n",
       "      <th>15</th>\n",
       "      <td>6</td>\n",
       "      <td>POST-BACHELORS</td>\n",
       "      <td>16</td>\n",
       "      <td>16-POST-FIRST PROFESSIONAL</td>\n",
       "    </tr>\n",
       "    <tr>\n",
       "      <th>16</th>\n",
       "      <td>7</td>\n",
       "      <td>MASTERS</td>\n",
       "      <td>17</td>\n",
       "      <td>17-MASTER'S DEGREE</td>\n",
       "    </tr>\n",
       "    <tr>\n",
       "      <th>17</th>\n",
       "      <td>8</td>\n",
       "      <td>POST MASTERS</td>\n",
       "      <td>18</td>\n",
       "      <td>18-POST-MASTER'S</td>\n",
       "    </tr>\n",
       "    <tr>\n",
       "      <th>18</th>\n",
       "      <td>8</td>\n",
       "      <td>POST MASTERS</td>\n",
       "      <td>19</td>\n",
       "      <td>19-SIXTH-YEAR DEGREE</td>\n",
       "    </tr>\n",
       "    <tr>\n",
       "      <th>19</th>\n",
       "      <td>8</td>\n",
       "      <td>POST MASTERS</td>\n",
       "      <td>20</td>\n",
       "      <td>20-POST-SIXTH YEAR</td>\n",
       "    </tr>\n",
       "    <tr>\n",
       "      <th>20</th>\n",
       "      <td>9</td>\n",
       "      <td>DOCTORATE</td>\n",
       "      <td>21</td>\n",
       "      <td>21-DOCTORATE DEGREE</td>\n",
       "    </tr>\n",
       "    <tr>\n",
       "      <th>21</th>\n",
       "      <td>10</td>\n",
       "      <td>POST-DOCTORATE</td>\n",
       "      <td>22</td>\n",
       "      <td>22-POST-DOCTORATE</td>\n",
       "    </tr>\n",
       "    <tr>\n",
       "      <th>22</th>\n",
       "      <td>11</td>\n",
       "      <td>UNSPECIFIED</td>\n",
       "      <td>**</td>\n",
       "      <td>**-UNSPECIFIED</td>\n",
       "    </tr>\n",
       "    <tr>\n",
       "      <th>23</th>\n",
       "      <td>12</td>\n",
       "      <td>NO EDUCATION LEVEL REPORTED</td>\n",
       "      <td>NaN</td>\n",
       "      <td>NO EDUCATION LEVEL REPORTED</td>\n",
       "    </tr>\n",
       "  </tbody>\n",
       "</table>\n",
       "</div>"
      ],
      "text/plain": [
       "    EDLVLTYP                    EDLVLTYPT EDLVL  \\\n",
       "0          1            BELOW HIGH SCHOOL    01   \n",
       "1          1            BELOW HIGH SCHOOL    02   \n",
       "2          1            BELOW HIGH SCHOOL    03   \n",
       "3          2   HIGH SCHOOL OR EQUIVALENCY    04   \n",
       "4          3         OCCUPATIONAL PROGRAM    05   \n",
       "5          3         OCCUPATIONAL PROGRAM    06   \n",
       "6          4       BETWEEN HS & BACHELORS    07   \n",
       "7          4       BETWEEN HS & BACHELORS    08   \n",
       "8          4       BETWEEN HS & BACHELORS    09   \n",
       "9          4       BETWEEN HS & BACHELORS    10   \n",
       "10         4       BETWEEN HS & BACHELORS    11   \n",
       "11         4       BETWEEN HS & BACHELORS    12   \n",
       "12         5                    BACHELORS    13   \n",
       "13         6               POST-BACHELORS    14   \n",
       "14         6               POST-BACHELORS    15   \n",
       "15         6               POST-BACHELORS    16   \n",
       "16         7                      MASTERS    17   \n",
       "17         8                 POST MASTERS    18   \n",
       "18         8                 POST MASTERS    19   \n",
       "19         8                 POST MASTERS    20   \n",
       "20         9                    DOCTORATE    21   \n",
       "21        10               POST-DOCTORATE    22   \n",
       "22        11                  UNSPECIFIED    **   \n",
       "23        12  NO EDUCATION LEVEL REPORTED   NaN   \n",
       "\n",
       "                                               EDLVLT  \n",
       "0   01-NO FORMAL EDUCATION OR SOME ELEMENTARY SCHO...  \n",
       "1     02-ELEMENTARY SCHOOL COMPLETED - NO HIGH SCHOOL  \n",
       "2              03-SOME HIGH SCHOOL - DID NOT COMPLETE  \n",
       "3   04-HIGH SCHOOL GRADUATE OR CERTIFICATE OF EQUI...  \n",
       "4   05-TERMINAL OCCUPATIONAL PROGRAM - DID NOT COM...  \n",
       "5   06-TERMINAL OCCUPATIONAL PROGRAM - CERTIFICATE...  \n",
       "6                07-SOME COLLEGE - LESS THAN ONE YEAR  \n",
       "7                                 08-ONE YEAR COLLEGE  \n",
       "8                                09-TWO YEARS COLLEGE  \n",
       "9                                 10-ASSOCIATE DEGREE  \n",
       "10                             11-THREE YEARS COLLEGE  \n",
       "11                              12-FOUR YEARS COLLEGE  \n",
       "12                               13-BACHELOR'S DEGREE  \n",
       "13                                 14-POST-BACHELOR'S  \n",
       "14                              15-FIRST PROFESSIONAL  \n",
       "15                         16-POST-FIRST PROFESSIONAL  \n",
       "16                                 17-MASTER'S DEGREE  \n",
       "17                                   18-POST-MASTER'S  \n",
       "18                               19-SIXTH-YEAR DEGREE  \n",
       "19                                 20-POST-SIXTH YEAR  \n",
       "20                                21-DOCTORATE DEGREE  \n",
       "21                                  22-POST-DOCTORATE  \n",
       "22                                     **-UNSPECIFIED  \n",
       "23                        NO EDUCATION LEVEL REPORTED  "
      ]
     },
     "execution_count": 16,
     "metadata": {},
     "output_type": "execute_result"
    }
   ],
   "source": [
    "# Educational Level\n",
    "# Print educational level dataframe\n",
    "edu_level = pd.read_csv('DTedlvl.txt')\n",
    "edu_level"
   ]
  },
  {
   "cell_type": "code",
   "execution_count": 26,
   "metadata": {
    "collapsed": false
   },
   "outputs": [
    {
     "data": {
      "text/html": [
       "\n",
       "                <audio controls=\"controls\" autoplay=\"autoplay\">\n",
       "                    <source src=\"./sound/beep-01a.wav\" type=\"audio/wav\" />\n",
       "                    Your browser does not support the audio element.\n",
       "                </audio>\n",
       "              "
      ],
      "text/plain": [
       "<IPython.lib.display.Audio object>"
      ]
     },
     "execution_count": 26,
     "metadata": {},
     "output_type": "execute_result"
    }
   ],
   "source": [
    "# Take the EDLVL and map to values in the EDLVLTYP column\n",
    "# Build dictionary of values\n",
    "edlvl_dict = {}\n",
    "edlvls_available = np.unique(df['EDLVL'])\n",
    "for edlvl in edlvls_available:\n",
    "    edlvl_dict[edlvl] = int(edu_level[edu_level.EDLVL == edlvl].iloc[0].EDLVLTYP)\n",
    "\n",
    "get_edlvl_type = lambda x: edlvl_dict[x]\n",
    "df['EDLVLTYP'] = df['EDLVL'].map(get_edlvl_type)\n",
    "Audio(url=sound_file, autoplay=True)"
   ]
  },
  {
   "cell_type": "code",
   "execution_count": 28,
   "metadata": {
    "collapsed": false
   },
   "outputs": [
    {
     "data": {
      "text/html": [
       "<div>\n",
       "<style>\n",
       "    .dataframe thead tr:only-child th {\n",
       "        text-align: right;\n",
       "    }\n",
       "\n",
       "    .dataframe thead th {\n",
       "        text-align: left;\n",
       "    }\n",
       "\n",
       "    .dataframe tbody tr th {\n",
       "        vertical-align: top;\n",
       "    }\n",
       "</style>\n",
       "<table border=\"1\" class=\"dataframe\">\n",
       "  <thead>\n",
       "    <tr style=\"text-align: right;\">\n",
       "      <th></th>\n",
       "      <th>SUPERTYP</th>\n",
       "      <th>SUPERTYPT</th>\n",
       "      <th>SUPERVIS</th>\n",
       "      <th>SUPERVIST</th>\n",
       "    </tr>\n",
       "  </thead>\n",
       "  <tbody>\n",
       "    <tr>\n",
       "      <th>0</th>\n",
       "      <td>1</td>\n",
       "      <td>Supervisor</td>\n",
       "      <td>2</td>\n",
       "      <td>2-SUPERVISOR OR MANAGER</td>\n",
       "    </tr>\n",
       "    <tr>\n",
       "      <th>1</th>\n",
       "      <td>2</td>\n",
       "      <td>Leader</td>\n",
       "      <td>6</td>\n",
       "      <td>6-LEADER</td>\n",
       "    </tr>\n",
       "    <tr>\n",
       "      <th>2</th>\n",
       "      <td>2</td>\n",
       "      <td>Leader</td>\n",
       "      <td>7</td>\n",
       "      <td>7-TEAM LEADER</td>\n",
       "    </tr>\n",
       "    <tr>\n",
       "      <th>3</th>\n",
       "      <td>3</td>\n",
       "      <td>Non-Supervisor</td>\n",
       "      <td>4</td>\n",
       "      <td>4-SUPERVISOR (CSRA)</td>\n",
       "    </tr>\n",
       "    <tr>\n",
       "      <th>4</th>\n",
       "      <td>3</td>\n",
       "      <td>Non-Supervisor</td>\n",
       "      <td>5</td>\n",
       "      <td>5-MANAGEMENT OFFICIAL (CSRA)</td>\n",
       "    </tr>\n",
       "    <tr>\n",
       "      <th>5</th>\n",
       "      <td>3</td>\n",
       "      <td>Non-Supervisor</td>\n",
       "      <td>8</td>\n",
       "      <td>8-ALL OTHER POSITIONS</td>\n",
       "    </tr>\n",
       "    <tr>\n",
       "      <th>6</th>\n",
       "      <td>4</td>\n",
       "      <td>Unspecified</td>\n",
       "      <td>*</td>\n",
       "      <td>*-UNSPECIFIED</td>\n",
       "    </tr>\n",
       "  </tbody>\n",
       "</table>\n",
       "</div>"
      ],
      "text/plain": [
       "   SUPERTYP       SUPERTYPT SUPERVIS                     SUPERVIST\n",
       "0         1      Supervisor        2       2-SUPERVISOR OR MANAGER\n",
       "1         2          Leader        6                      6-LEADER\n",
       "2         2          Leader        7                 7-TEAM LEADER\n",
       "3         3  Non-Supervisor        4           4-SUPERVISOR (CSRA)\n",
       "4         3  Non-Supervisor        5  5-MANAGEMENT OFFICIAL (CSRA)\n",
       "5         3  Non-Supervisor        8         8-ALL OTHER POSITIONS\n",
       "6         4     Unspecified        *                 *-UNSPECIFIED"
      ]
     },
     "execution_count": 28,
     "metadata": {},
     "output_type": "execute_result"
    }
   ],
   "source": [
    "# Supervisory Status\n",
    "# Print supervisory status dataframe\n",
    "supervis_status = pd.read_csv('DTsuper.txt')\n",
    "supervis_status"
   ]
  },
  {
   "cell_type": "code",
   "execution_count": 32,
   "metadata": {
    "collapsed": false
   },
   "outputs": [
    {
     "data": {
      "text/html": [
       "\n",
       "                <audio controls=\"controls\" autoplay=\"autoplay\">\n",
       "                    <source src=\"./sound/beep-01a.wav\" type=\"audio/wav\" />\n",
       "                    Your browser does not support the audio element.\n",
       "                </audio>\n",
       "              "
      ],
      "text/plain": [
       "<IPython.lib.display.Audio object>"
      ]
     },
     "execution_count": 32,
     "metadata": {},
     "output_type": "execute_result"
    }
   ],
   "source": [
    "# Take the SUPERVIS and map to values in the SUPERTYP column\n",
    "# Build dictionary of values\n",
    "supervis_dict = {}\n",
    "supervis_available = np.unique(df['SUPERVIS'])\n",
    "for supervis in supervis_available:\n",
    "    # 3 for supervisor, 2 for leader and 1 for non-supervisor\n",
    "    supervis_dict[supervis] = 4 - int(supervis_status[supervis_status.SUPERVIS == supervis].iloc[0].SUPERTYP)\n",
    "\n",
    "get_supervis_type = lambda x: supervis_dict[x]\n",
    "df['SUPERTYP'] = df['SUPERVIS'].map(get_supervis_type)\n",
    "Audio(url=sound_file, autoplay=True)"
   ]
  },
  {
   "cell_type": "code",
   "execution_count": 31,
   "metadata": {
    "collapsed": false
   },
   "outputs": [
    {
     "data": {
      "text/html": [
       "<div>\n",
       "<style>\n",
       "    .dataframe thead tr:only-child th {\n",
       "        text-align: right;\n",
       "    }\n",
       "\n",
       "    .dataframe thead th {\n",
       "        text-align: left;\n",
       "    }\n",
       "\n",
       "    .dataframe tbody tr th {\n",
       "        vertical-align: top;\n",
       "    }\n",
       "</style>\n",
       "<table border=\"1\" class=\"dataframe\">\n",
       "  <thead>\n",
       "    <tr style=\"text-align: right;\">\n",
       "      <th></th>\n",
       "      <th>WSTYP</th>\n",
       "      <th>WSTYPT</th>\n",
       "      <th>WORKSCH</th>\n",
       "      <th>WORKSCHT</th>\n",
       "    </tr>\n",
       "  </thead>\n",
       "  <tbody>\n",
       "    <tr>\n",
       "      <th>0</th>\n",
       "      <td>1</td>\n",
       "      <td>Full-time</td>\n",
       "      <td>B</td>\n",
       "      <td>B - Full-time Nonseasonal Baylor Pln</td>\n",
       "    </tr>\n",
       "    <tr>\n",
       "      <th>1</th>\n",
       "      <td>1</td>\n",
       "      <td>Full-time</td>\n",
       "      <td>F</td>\n",
       "      <td>F - Full-time Nonseasonal</td>\n",
       "    </tr>\n",
       "    <tr>\n",
       "      <th>2</th>\n",
       "      <td>1</td>\n",
       "      <td>Full-time</td>\n",
       "      <td>G</td>\n",
       "      <td>G - Full-time Seasonal</td>\n",
       "    </tr>\n",
       "    <tr>\n",
       "      <th>3</th>\n",
       "      <td>1</td>\n",
       "      <td>Full-time</td>\n",
       "      <td>H</td>\n",
       "      <td>H - Full-time On-call</td>\n",
       "    </tr>\n",
       "    <tr>\n",
       "      <th>4</th>\n",
       "      <td>2</td>\n",
       "      <td>Not Full-time</td>\n",
       "      <td>I</td>\n",
       "      <td>I - Intermittent Nonseasonal</td>\n",
       "    </tr>\n",
       "    <tr>\n",
       "      <th>5</th>\n",
       "      <td>2</td>\n",
       "      <td>Not Full-time</td>\n",
       "      <td>J</td>\n",
       "      <td>J - Intermittent Seasonal</td>\n",
       "    </tr>\n",
       "    <tr>\n",
       "      <th>6</th>\n",
       "      <td>2</td>\n",
       "      <td>Not Full-time</td>\n",
       "      <td>P</td>\n",
       "      <td>P - Part-time Nonseasonal</td>\n",
       "    </tr>\n",
       "    <tr>\n",
       "      <th>7</th>\n",
       "      <td>2</td>\n",
       "      <td>Not Full-time</td>\n",
       "      <td>Q</td>\n",
       "      <td>Q - Part-time Seasonal</td>\n",
       "    </tr>\n",
       "    <tr>\n",
       "      <th>8</th>\n",
       "      <td>2</td>\n",
       "      <td>Not Full-time</td>\n",
       "      <td>R</td>\n",
       "      <td>R - Part-time On-call</td>\n",
       "    </tr>\n",
       "    <tr>\n",
       "      <th>9</th>\n",
       "      <td>2</td>\n",
       "      <td>Not Full-time</td>\n",
       "      <td>S</td>\n",
       "      <td>S - Part-time Job Sharer Nonseasonal</td>\n",
       "    </tr>\n",
       "    <tr>\n",
       "      <th>10</th>\n",
       "      <td>2</td>\n",
       "      <td>Not Full-time</td>\n",
       "      <td>T</td>\n",
       "      <td>T - Part-time Job Sharer Seasonal</td>\n",
       "    </tr>\n",
       "    <tr>\n",
       "      <th>11</th>\n",
       "      <td>3</td>\n",
       "      <td>Unspecified</td>\n",
       "      <td>*</td>\n",
       "      <td>* - Unspecified</td>\n",
       "    </tr>\n",
       "  </tbody>\n",
       "</table>\n",
       "</div>"
      ],
      "text/plain": [
       "    WSTYP         WSTYPT WORKSCH                              WORKSCHT\n",
       "0       1      Full-time       B  B - Full-time Nonseasonal Baylor Pln\n",
       "1       1      Full-time       F             F - Full-time Nonseasonal\n",
       "2       1      Full-time       G                G - Full-time Seasonal\n",
       "3       1      Full-time       H                 H - Full-time On-call\n",
       "4       2  Not Full-time       I          I - Intermittent Nonseasonal\n",
       "5       2  Not Full-time       J             J - Intermittent Seasonal\n",
       "6       2  Not Full-time       P             P - Part-time Nonseasonal\n",
       "7       2  Not Full-time       Q                Q - Part-time Seasonal\n",
       "8       2  Not Full-time       R                 R - Part-time On-call\n",
       "9       2  Not Full-time       S  S - Part-time Job Sharer Nonseasonal\n",
       "10      2  Not Full-time       T     T - Part-time Job Sharer Seasonal\n",
       "11      3    Unspecified       *                       * - Unspecified"
      ]
     },
     "execution_count": 31,
     "metadata": {},
     "output_type": "execute_result"
    }
   ],
   "source": [
    "# Work schedule\n",
    "# Print work schedule dataframe\n",
    "work_schedule = pd.read_csv('DTwrksch.txt')\n",
    "work_schedule"
   ]
  },
  {
   "cell_type": "code",
   "execution_count": 33,
   "metadata": {
    "collapsed": false
   },
   "outputs": [
    {
     "data": {
      "text/html": [
       "\n",
       "                <audio controls=\"controls\" autoplay=\"autoplay\">\n",
       "                    <source src=\"./sound/beep-01a.wav\" type=\"audio/wav\" />\n",
       "                    Your browser does not support the audio element.\n",
       "                </audio>\n",
       "              "
      ],
      "text/plain": [
       "<IPython.lib.display.Audio object>"
      ]
     },
     "execution_count": 33,
     "metadata": {},
     "output_type": "execute_result"
    }
   ],
   "source": [
    "# Take the WORKSCH and map to values in the WSTYP column\n",
    "# Build dictionary of values\n",
    "worksch_dict = {}\n",
    "worksch_available = np.unique(df['WORKSCH'])\n",
    "for worksch in worksch_available:\n",
    "    # 2 for full-time and 1 for part-time\n",
    "    worksch_dict[worksch] = 3 - int(work_schedule[work_schedule.WORKSCH == worksch].iloc[0].WSTYP)\n",
    "\n",
    "get_worksch_type = lambda x: worksch_dict[x]\n",
    "df['WSTYP'] = df['WORKSCH'].map(get_worksch_type)\n",
    "Audio(url=sound_file, autoplay=True)"
   ]
  },
  {
   "cell_type": "markdown",
   "metadata": {},
   "source": [
    "** Summarize features that have been made numeric **"
   ]
  },
  {
   "cell_type": "code",
   "execution_count": 103,
   "metadata": {
    "collapsed": false
   },
   "outputs": [],
   "source": [
    "#numeric_features = ['AGE', 'EDLVLTYP', 'SUPERTYP', 'WSTYP', 'SALARY', 'LOS']\n",
    "numeric_features = ['AGE', 'EDLVLTYP', 'SALARY', 'LOS']\n",
    "pca_features = df[numeric_features]"
   ]
  },
  {
   "cell_type": "code",
   "execution_count": 104,
   "metadata": {
    "collapsed": false
   },
   "outputs": [
    {
     "data": {
      "text/plain": [
       "AGE           int64\n",
       "EDLVLTYP      int64\n",
       "SALARY      float64\n",
       "LOS         float64\n",
       "dtype: object"
      ]
     },
     "execution_count": 104,
     "metadata": {},
     "output_type": "execute_result"
    }
   ],
   "source": [
    "pca_features.dtypes"
   ]
  },
  {
   "cell_type": "code",
   "execution_count": 39,
   "metadata": {
    "collapsed": false
   },
   "outputs": [
    {
     "data": {
      "text/html": [
       "<div>\n",
       "<style>\n",
       "    .dataframe thead tr:only-child th {\n",
       "        text-align: right;\n",
       "    }\n",
       "\n",
       "    .dataframe thead th {\n",
       "        text-align: left;\n",
       "    }\n",
       "\n",
       "    .dataframe tbody tr th {\n",
       "        vertical-align: top;\n",
       "    }\n",
       "</style>\n",
       "<table border=\"1\" class=\"dataframe\">\n",
       "  <thead>\n",
       "    <tr style=\"text-align: right;\">\n",
       "      <th></th>\n",
       "      <th>AGE</th>\n",
       "      <th>EDLVLTYP</th>\n",
       "      <th>SUPERTYP</th>\n",
       "      <th>WSTYP</th>\n",
       "      <th>SALARY</th>\n",
       "      <th>LOS</th>\n",
       "    </tr>\n",
       "  </thead>\n",
       "  <tbody>\n",
       "    <tr>\n",
       "      <th>0</th>\n",
       "      <td>67</td>\n",
       "      <td>9</td>\n",
       "      <td>1</td>\n",
       "      <td>2</td>\n",
       "      <td>161900.0</td>\n",
       "      <td>42.4</td>\n",
       "    </tr>\n",
       "    <tr>\n",
       "      <th>1</th>\n",
       "      <td>47</td>\n",
       "      <td>6</td>\n",
       "      <td>3</td>\n",
       "      <td>2</td>\n",
       "      <td>172100.0</td>\n",
       "      <td>7.4</td>\n",
       "    </tr>\n",
       "    <tr>\n",
       "      <th>2</th>\n",
       "      <td>52</td>\n",
       "      <td>6</td>\n",
       "      <td>3</td>\n",
       "      <td>2</td>\n",
       "      <td>172100.0</td>\n",
       "      <td>24.2</td>\n",
       "    </tr>\n",
       "    <tr>\n",
       "      <th>3</th>\n",
       "      <td>27</td>\n",
       "      <td>6</td>\n",
       "      <td>1</td>\n",
       "      <td>2</td>\n",
       "      <td>79720.0</td>\n",
       "      <td>0.9</td>\n",
       "    </tr>\n",
       "    <tr>\n",
       "      <th>4</th>\n",
       "      <td>27</td>\n",
       "      <td>6</td>\n",
       "      <td>1</td>\n",
       "      <td>2</td>\n",
       "      <td>79720.0</td>\n",
       "      <td>0.8</td>\n",
       "    </tr>\n",
       "    <tr>\n",
       "      <th>5</th>\n",
       "      <td>32</td>\n",
       "      <td>6</td>\n",
       "      <td>1</td>\n",
       "      <td>2</td>\n",
       "      <td>79720.0</td>\n",
       "      <td>0.0</td>\n",
       "    </tr>\n",
       "    <tr>\n",
       "      <th>6</th>\n",
       "      <td>32</td>\n",
       "      <td>5</td>\n",
       "      <td>1</td>\n",
       "      <td>2</td>\n",
       "      <td>60470.0</td>\n",
       "      <td>9.3</td>\n",
       "    </tr>\n",
       "    <tr>\n",
       "      <th>7</th>\n",
       "      <td>32</td>\n",
       "      <td>9</td>\n",
       "      <td>1</td>\n",
       "      <td>1</td>\n",
       "      <td>79720.0</td>\n",
       "      <td>0.2</td>\n",
       "    </tr>\n",
       "    <tr>\n",
       "      <th>8</th>\n",
       "      <td>32</td>\n",
       "      <td>6</td>\n",
       "      <td>1</td>\n",
       "      <td>2</td>\n",
       "      <td>149337.0</td>\n",
       "      <td>7.5</td>\n",
       "    </tr>\n",
       "    <tr>\n",
       "      <th>9</th>\n",
       "      <td>37</td>\n",
       "      <td>6</td>\n",
       "      <td>1</td>\n",
       "      <td>2</td>\n",
       "      <td>112021.0</td>\n",
       "      <td>1.8</td>\n",
       "    </tr>\n",
       "    <tr>\n",
       "      <th>10</th>\n",
       "      <td>37</td>\n",
       "      <td>5</td>\n",
       "      <td>1</td>\n",
       "      <td>2</td>\n",
       "      <td>161900.0</td>\n",
       "      <td>13.8</td>\n",
       "    </tr>\n",
       "    <tr>\n",
       "      <th>11</th>\n",
       "      <td>67</td>\n",
       "      <td>4</td>\n",
       "      <td>3</td>\n",
       "      <td>2</td>\n",
       "      <td>72328.0</td>\n",
       "      <td>13.2</td>\n",
       "    </tr>\n",
       "    <tr>\n",
       "      <th>12</th>\n",
       "      <td>57</td>\n",
       "      <td>2</td>\n",
       "      <td>3</td>\n",
       "      <td>2</td>\n",
       "      <td>72328.0</td>\n",
       "      <td>17.9</td>\n",
       "    </tr>\n",
       "    <tr>\n",
       "      <th>13</th>\n",
       "      <td>62</td>\n",
       "      <td>5</td>\n",
       "      <td>1</td>\n",
       "      <td>2</td>\n",
       "      <td>129758.0</td>\n",
       "      <td>12.3</td>\n",
       "    </tr>\n",
       "    <tr>\n",
       "      <th>14</th>\n",
       "      <td>62</td>\n",
       "      <td>2</td>\n",
       "      <td>1</td>\n",
       "      <td>2</td>\n",
       "      <td>72328.0</td>\n",
       "      <td>15.4</td>\n",
       "    </tr>\n",
       "  </tbody>\n",
       "</table>\n",
       "</div>"
      ],
      "text/plain": [
       "    AGE  EDLVLTYP  SUPERTYP  WSTYP    SALARY   LOS\n",
       "0    67         9         1      2  161900.0  42.4\n",
       "1    47         6         3      2  172100.0   7.4\n",
       "2    52         6         3      2  172100.0  24.2\n",
       "3    27         6         1      2   79720.0   0.9\n",
       "4    27         6         1      2   79720.0   0.8\n",
       "5    32         6         1      2   79720.0   0.0\n",
       "6    32         5         1      2   60470.0   9.3\n",
       "7    32         9         1      1   79720.0   0.2\n",
       "8    32         6         1      2  149337.0   7.5\n",
       "9    37         6         1      2  112021.0   1.8\n",
       "10   37         5         1      2  161900.0  13.8\n",
       "11   67         4         3      2   72328.0  13.2\n",
       "12   57         2         3      2   72328.0  17.9\n",
       "13   62         5         1      2  129758.0  12.3\n",
       "14   62         2         1      2   72328.0  15.4"
      ]
     },
     "execution_count": 39,
     "metadata": {},
     "output_type": "execute_result"
    }
   ],
   "source": [
    "pca_features.head(15)"
   ]
  },
  {
   "cell_type": "markdown",
   "metadata": {},
   "source": [
    "## First PCA analysis without including non-ordinal features"
   ]
  },
  {
   "cell_type": "markdown",
   "metadata": {},
   "source": [
    "First, we try to find out the correlation matrix"
   ]
  },
  {
   "cell_type": "code",
   "execution_count": 105,
   "metadata": {
    "collapsed": false,
    "scrolled": false
   },
   "outputs": [
    {
     "name": "stdout",
     "output_type": "stream",
     "text": [
      "               AGE  EDLVLTYP    SALARY       LOS\n",
      "AGE       1.000000  0.039606  0.242883  0.538715\n",
      "EDLVLTYP  0.039606  1.000000  0.447524 -0.015878\n",
      "SALARY    0.242883  0.447524  1.000000  0.312606\n",
      "LOS       0.538715 -0.015878  0.312606  1.000000\n"
     ]
    },
    {
     "data": {
      "image/png": "[encoded data removed]",
      "text/plain": [
       "<matplotlib.figure.Figure at 0x1c144a20>"
      ]
     },
     "metadata": {},
     "output_type": "display_data"
    }
   ],
   "source": [
    "Sigma = pca_features.corr()\n",
    "print Sigma\n",
    "\n",
    "sns.heatmap(Sigma, square=True, annot=True,cmap='cubehelix')\n",
    "plt.show()"
   ]
  },
  {
   "cell_type": "code",
   "execution_count": 106,
   "metadata": {
    "collapsed": false
   },
   "outputs": [
    {
     "data": {
      "image/png": "[encoded data removed]",
      "text/plain": [
       "<matplotlib.figure.Figure at 0x6c0f1fd0>"
      ]
     },
     "metadata": {},
     "output_type": "display_data"
    }
   ],
   "source": [
    "from sklearn.decomposition import PCA\n",
    "from sklearn.preprocessing import StandardScaler\n",
    "\n",
    "z_scaler = StandardScaler()\n",
    "\n",
    "z_data = z_scaler.fit_transform(pca_features)\n",
    "pca_trafo = PCA().fit(z_data)\n",
    "                     \n",
    "plt.semilogy(pca_trafo.explained_variance_ratio_, '--o')\n",
    "plt.semilogy(pca_trafo.explained_variance_ratio_.cumsum(), '--o')\n",
    "plt.show()\n",
    "\n",
    "#plt.figure()\n",
    "#pca_data = pca_trafo.transform()\n",
    "#sns.heatmap(np.log(pca_trafo.inverse_transform(np.eye(pca_features.shape[1]))), cmap=\"hot\", cbar=False)\n",
    "#plt.show()"
   ]
  },
  {
   "cell_type": "code",
   "execution_count": 114,
   "metadata": {
    "collapsed": false
   },
   "outputs": [
    {
     "data": {
      "image/png": "[encoded data removed]",
      "text/plain": [
       "<matplotlib.figure.Figure at 0x6bed9198>"
      ]
     },
     "metadata": {},
     "output_type": "display_data"
    }
   ],
   "source": [
    "# Visualization of first 2 components:\n",
    "z_scaler = StandardScaler()\n",
    "\n",
    "z_data = z_scaler.fit_transform(pca_features)\n",
    "pca_trafo = PCA(n_components=2).fit(z_data)\n",
    "\n",
    "pca_data = pca_trafo.transform(z_data)\n",
    "#plt.plot(pca_data[:,0], pca_data[:,1], 'o', alpha=0.02)\n",
    "\n",
    "unitv_transformations = pca_trafo.transform(np.eye(z_data.shape[1]))\n",
    "\n",
    "# AGE\tEDLVLTYP\tSUPERTYP\tWSTYP\tSALARY\tLOS\n",
    "plt.quiver(0, 0, unitv_transformations[:,0].transpose(), unitv_transformations[:,1].transpose(),\n",
    "           np.hypot(unitv_transformations[:,0].transpose(), unitv_transformations[:,1].transpose()), scale=1)\n",
    "#plt.xlim(-0.02, 0.02)\n",
    "#plt.quiverkey(QV1, 0.01, 0.01, )\n",
    "# clockwise: 1 is education, 3 is supervisory,  4 is work schedule, 2 is salary, 5 is length of service, and 6 is age\n",
    "# THe most relevant factors to the two principle components are: supervisory / work schedule vs education\n",
    "plt.show()"
   ]
  },
  {
   "cell_type": "code",
   "execution_count": 112,
   "metadata": {
    "collapsed": false,
    "scrolled": true
   },
   "outputs": [
    {
     "data": {
      "text/plain": [
       "array([ 0.67145169,  0.78153148,  0.67733914,  0.69251199])"
      ]
     },
     "execution_count": 112,
     "metadata": {},
     "output_type": "execute_result"
    }
   ],
   "source": [
    "np.hypot(unitv_transformations[:,0].transpose(), unitv_transformations[:,1].transpose())"
   ]
  },
  {
   "cell_type": "markdown",
   "metadata": {},
   "source": [
    "The graph tells us that we can use three variables to summarize 80% of the variations in data. Better than average, but still not that good to motivate us to discard two other variables. We may proceed in the next step to using K-mean clustering"
   ]
  },
  {
   "cell_type": "code",
   "execution_count": null,
   "metadata": {
    "collapsed": true
   },
   "outputs": [],
   "source": []
  }
 ],
 "metadata": {
  "anaconda-cloud": {},
  "kernelspec": {
   "display_name": "Python [default]",
   "language": "python",
   "name": "python2"
  },
  "language_info": {
   "codemirror_mode": {
    "name": "ipython",
    "version": 2
   },
   "file_extension": ".py",
   "mimetype": "text/x-python",
   "name": "python",
   "nbconvert_exporter": "python",
   "pygments_lexer": "ipython2",
   "version": "2.7.12"
  }
 },
 "nbformat": 4,
 "nbformat_minor": 1
}
